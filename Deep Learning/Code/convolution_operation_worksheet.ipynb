{
 "cells": [
  {
   "cell_type": "code",
   "execution_count": 1,
   "metadata": {},
   "outputs": [],
   "source": [
    "import numpy as np"
   ]
  },
  {
   "cell_type": "code",
   "execution_count": 2,
   "metadata": {},
   "outputs": [],
   "source": [
    "#input 3 channels:x_0,x_1 and x_2\n",
    "x_0=np.array([[0,3,2,6,1],[7,6,7,5,7],[4,1,4,0,3],[3,5,2,6,5],[7,0,7,5,1]])\n",
    "x_1=np.array([[1,2,6,1,0],[3,6,0,5,1],[0,1,1,3,0],[6,1,5,2,3],[1,0,1,5,0]])\n",
    "x_2=np.array([[3,0,2,3,4],[1,5,4,0,1],[6,2,6,2,5],[1,0,5,7,1],[5,3,7,3,0]])\n",
    "# 3 filters: w_0,w_1,w_2\n",
    "w_0=np.array([[1,0,1],[-1,0,0],[-1,1,1]])\n",
    "w_1=np.array([[1,1,1,],[-1,-1,1],[1,-1,0]])\n",
    "w_2=np.array([[1,1,0],[-1,1,-1],[1,1,-1]])\n",
    "inp_w=np.array([[x_0,w_0],[x_1,w_1],[x_2,w_2]])"
   ]
  },
  {
   "cell_type": "code",
   "execution_count": 20,
   "metadata": {},
   "outputs": [
    {
     "name": "stdout",
     "output_type": "stream",
     "text": [
      "Output matrix : \n",
      " [[ 1 22  0]\n",
      " [21 31 31]\n",
      " [10 22 20]]\n"
     ]
    }
   ],
   "source": [
    "final_ans=np.array([[0]*3 for x in range(3)])\n",
    "for z in range(3):\n",
    "    #assigning imput matrix and weight to be used in this iteration\n",
    "    x,w=inp_w[z][0],inp_w[z][1]\n",
    "    #initialing 3*3 array to store output of each stride dot product \n",
    "    ans=np.array([[0]*3 for x in range(3)])\n",
    "    for i in range(3):\n",
    "        for j in range(3):\n",
    "            temp=np.multiply(x[i:i+3,j:j+3],w)\n",
    "            ans[i][j]=temp.sum()\n",
    "    \n",
    "    #adding 3 resultunt matrices element wise\n",
    "    final_ans+=ans\n",
    "    #print(ans)\n",
    "    \n",
    "#adding bias to final ans\n",
    "print('Output matrix : \\n',final+1)"
   ]
  },
  {
   "cell_type": "code",
   "execution_count": null,
   "metadata": {},
   "outputs": [],
   "source": []
  }
 ],
 "metadata": {
  "kernelspec": {
   "display_name": "Python 3",
   "language": "python",
   "name": "python3"
  },
  "language_info": {
   "codemirror_mode": {
    "name": "ipython",
    "version": 3
   },
   "file_extension": ".py",
   "mimetype": "text/x-python",
   "name": "python",
   "nbconvert_exporter": "python",
   "pygments_lexer": "ipython3",
   "version": "3.7.3"
  }
 },
 "nbformat": 4,
 "nbformat_minor": 2
}
