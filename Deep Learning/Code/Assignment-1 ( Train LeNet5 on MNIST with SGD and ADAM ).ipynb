{
 "cells": [
  {
   "cell_type": "code",
   "execution_count": null,
   "metadata": {
    "colab": {},
    "colab_type": "code",
    "id": "oLru06jnaawa"
   },
   "outputs": [],
   "source": [
    "import torch\n",
    "import numpy as np\n",
    "import torch.nn as nn\n",
    "import torch.nn.functional as F\n",
    "import matplotlib.pyplot as plt\n",
    "from torchvision import transforms, datasets"
   ]
  },
  {
   "cell_type": "code",
   "execution_count": null,
   "metadata": {
    "colab": {},
    "colab_type": "code",
    "id": "L7Piy4wzalz4"
   },
   "outputs": [],
   "source": [
    "apply_transform = transforms.Compose([transforms.Resize(32), transforms.ToTensor()])\n",
    "BatchSize = 250 # change according to system specs\n",
    "\n",
    "trainset = datasets.MNIST(root='./MNIST', train=True, download=True, transform=apply_transform)\n",
    "trainLoader = torch.utils.data.DataLoader(trainset, batch_size=BatchSize,\n",
    "                                          shuffle=True, num_workers=4) # Creating dataloader\n",
    "\n",
    "# Validation set with random rotations in the range [-90,90]\n",
    "testset = datasets.MNIST(root='./MNIST', train=False, download=True, transform=apply_transform)\n",
    "testLoader = torch.utils.data.DataLoader(testset, batch_size=BatchSize,\n",
    "                                         shuffle=False, num_workers=4) # Creating dataloader"
   ]
  },
  {
   "cell_type": "code",
   "execution_count": null,
   "metadata": {
    "colab": {
     "base_uri": "https://localhost:8080/",
     "height": 51
    },
    "colab_type": "code",
    "id": "I7lGy4J1b7Zs",
    "outputId": "2a56f511-ffa6-45fa-e982-b6bc9ba00fbb"
   },
   "outputs": [],
   "source": [
    "# Size of train and test datasets\n",
    "print('No. of samples in train set: '+str(len(trainLoader.dataset)))\n",
    "print('No. of samples in test set: '+str(len(testLoader.dataset)))"
   ]
  },
  {
   "cell_type": "code",
   "execution_count": null,
   "metadata": {
    "colab": {},
    "colab_type": "code",
    "id": "KtXHeg7ZcA1w"
   },
   "outputs": [],
   "source": [
    "class LeNet(nn.Module):\n",
    "    def __init__(self):\n",
    "        super(LeNet, self).__init__()\n",
    "        self.conv1 = nn.Conv2d(1, 6, kernel_size=5)\n",
    "        self.pool1 = nn.MaxPool2d(kernel_size=2,stride=2)\n",
    "        self.conv2 = nn.Conv2d(6, 16, kernel_size=5)\n",
    "        self.pool2 = nn.MaxPool2d(kernel_size=2,stride=2)        \n",
    "        self.fc1 = nn.Linear(400, 120)\n",
    "        self.fc2 = nn.Linear(120, 84)\n",
    "        self.fc3 = nn.Linear(84, 10)\n",
    "\n",
    "    def forward(self, x):\n",
    "        x = F.relu(self.conv1(x))\n",
    "        x = self.pool1(x)\n",
    "        x = F.relu(self.conv2(x))\n",
    "        x = self.pool2(x)\n",
    "        x = x.view(-1, 400)\n",
    "        x = F.relu(self.fc1(x)) \n",
    "        x = F.relu(self.fc2(x))\n",
    "        x = self.fc3(x)\n",
    "        return F.log_softmax(x,dim=1)"
   ]
  },
  {
   "cell_type": "code",
   "execution_count": null,
   "metadata": {
    "colab": {
     "base_uri": "https://localhost:8080/",
     "height": 187
    },
    "colab_type": "code",
    "id": "R1a-w0ZpcJkq",
    "outputId": "e7b9d1ba-0145-4a4b-b68c-8f3a3c931224"
   },
   "outputs": [],
   "source": [
    "use_gpu = torch.cuda.is_available()\n",
    "net = LeNet()\n",
    "print(net)\n",
    "if use_gpu:\n",
    "    print('GPU is avaialble!')\n",
    "    net = net.cuda()"
   ]
  },
  {
   "cell_type": "code",
   "execution_count": null,
   "metadata": {
    "colab": {
     "base_uri": "https://localhost:8080/",
     "height": 796
    },
    "colab_type": "code",
    "id": "NdIy67I_UfUi",
    "outputId": "9f6fec4d-52e3-4359-eb42-39537b50a8c9"
   },
   "outputs": [],
   "source": [
    "#solution with gcd\n",
    "Accur=[]\n",
    "lr=0.0001\n",
    "lear_rate=[]\n",
    "train_loss=[[],[],[],[],[]]\n",
    "train_acc=[[],[],[],[],[]]\n",
    "for pq in range(0,3):\n",
    "  lear_rate.append(lr)\n",
    "  criterion = nn.CrossEntropyLoss()\n",
    "  opt = torch.optim.SGD(net.parameters(), lr , momentum=0.9)\n",
    "  num_epochs = 20\n",
    "  for epoch in range(num_epochs):\n",
    "      running_loss = 0.0 \n",
    "      running_corr = 0\n",
    "          \n",
    "      for i,data in enumerate(trainLoader):\n",
    "          inputs,labels = data\n",
    "          if use_gpu:\n",
    "              inputs, labels = inputs.cuda(),labels.cuda() \n",
    "          net.zero_grad()\n",
    "          opt.zero_grad()\n",
    "          outputs = net(inputs)\n",
    "          preds = torch.argmax(outputs,dim=1)\n",
    "          loss = criterion(outputs, labels) \n",
    "          loss.backward()\n",
    "          running_loss += loss \n",
    "          running_corr += torch.sum(preds==labels)\n",
    "          opt.step() \n",
    "      epoch_loss = running_loss.item()/(i+1)   \n",
    "      epoch_acc = running_corr.item()/60000\n",
    "      train_loss[pq].append(epoch_loss) \n",
    "      train_acc[pq].append(epoch_acc) \n",
    "      if((epoch+1)%5==0):\n",
    "        print('Epoch {:.0f}/{:.0f} : Training loss: {:.4f} | Training Accuracy: {:.4f}'.format(epoch+1,num_epochs,epoch_loss,epoch_acc*100))  \n",
    "      correct_pred = 0\n",
    "      for data in testLoader:\n",
    "          inputs,labels = data\n",
    "          if use_gpu:\n",
    "              inputs, labels = inputs.cuda(),labels.cuda()\n",
    "          # Feedforward train data batch through model\n",
    "          output = net(inputs) \n",
    "          # Predicted class is the one with maximum probability\n",
    "          preds = torch.argmax(output,dim=1)\n",
    "          correct_pred += torch.sum(preds==labels)\n",
    "\n",
    "  test_accuracy = correct_pred.item()/10000.0\n",
    "  Accur.append(test_accuracy*100)\n",
    "  lr=lr+0.0001\n",
    "  print(test_accuracy*100)\n",
    "\n",
    "plt.plot(range(num_epochs),train_loss[0],'r',label=\"lr=0.0001\") \n",
    "plt.plot(range(num_epochs),train_loss[1],'b',label=\"lr=0.0002\") \n",
    "plt.plot(range(num_epochs),train_loss[2],'g',label=\"lr=0.0003\") \n",
    "plt.xlabel('Epochs')\n",
    "plt.ylabel('Training Error')\n",
    "plt.legend()\n",
    "plt.show()\n",
    "\n",
    "plt.plot(range(num_epochs),train_acc[0],'r',label=\"0.0001\") \n",
    "plt.plot(range(num_epochs),train_acc[1],'b',label=\"0.0002\") \n",
    "plt.plot(range(num_epochs),train_acc[2],'g',label=\"lr=0.0003\") \n",
    "plt.xlabel('Epochs')\n",
    "plt.ylabel('Training Accuracy')\n",
    "plt.legend()\n",
    "plt.show()"
   ]
  },
  {
   "cell_type": "code",
   "execution_count": null,
   "metadata": {
    "colab": {
     "base_uri": "https://localhost:8080/",
     "height": 796
    },
    "colab_type": "code",
    "id": "bdCtEaU8hDTH",
    "outputId": "26a5a6f7-db1a-4d9a-f842-53b16e78eae7"
   },
   "outputs": [],
   "source": [
    "#solution with adam\n",
    "Accur=[]\n",
    "lr=0.0001\n",
    "lear_rate=[]\n",
    "train_loss=[[],[],[],[],[]]\n",
    "train_acc=[[],[],[],[],[]]\n",
    "for pq in range(0,3):\n",
    "  lear_rate.append(lr)\n",
    "  criterion = nn.CrossEntropyLoss()\n",
    "  opt=   torch.optim.Adam(net.parameters(),lr = 0.002)\n",
    "  num_epochs = 20\n",
    "  for epoch in range(num_epochs):\n",
    "      running_loss = 0.0 \n",
    "      running_corr = 0\n",
    "          \n",
    "      for i,data in enumerate(trainLoader):\n",
    "          inputs,labels = data\n",
    "          if use_gpu:\n",
    "              inputs, labels = inputs.cuda(),labels.cuda() \n",
    "          net.zero_grad()\n",
    "          opt.zero_grad()\n",
    "          outputs = net(inputs)\n",
    "          preds = torch.argmax(outputs,dim=1)\n",
    "          loss = criterion(outputs, labels) \n",
    "          loss.backward()\n",
    "          running_loss += loss \n",
    "          running_corr += torch.sum(preds==labels)\n",
    "          opt.step() \n",
    "      epoch_loss = running_loss.item()/(i+1)   \n",
    "      epoch_acc = running_corr.item()/60000\n",
    "      train_loss[pq].append(epoch_loss) \n",
    "      train_acc[pq].append(epoch_acc) \n",
    "      if((epoch+1)%5==0):\n",
    "        print('Epoch {:.0f}/{:.0f} : Training loss: {:.4f} | Training Accuracy: {:.4f}'.format(epoch+1,num_epochs,epoch_loss,epoch_acc*100))  \n",
    "      correct_pred = 0\n",
    "      for data in testLoader:\n",
    "          inputs,labels = data\n",
    "          if use_gpu:\n",
    "              inputs, labels = inputs.cuda(),labels.cuda()\n",
    "          # Feedforward train data batch through model\n",
    "          output = net(inputs) \n",
    "          preds = torch.argmax(output,dim=1)\n",
    "          correct_pred += torch.sum(preds==labels)\n",
    "\n",
    "  test_accuracy = correct_pred.item()/10000.0\n",
    "  Accur.append(test_accuracy*100)\n",
    "  lr=lr+0.0001\n",
    "  print(test_accuracy*100)\n",
    "\n",
    "plt.plot(range(num_epochs),train_loss[0],'r',label=\"lr=0.0001\") \n",
    "plt.plot(range(num_epochs),train_loss[1],'b',label=\"lr=0.0002\") \n",
    "plt.plot(range(num_epochs),train_loss[2],'g',label=\"lr=0.0003\") \n",
    "plt.xlabel('Epochs')\n",
    "plt.ylabel('Training Error')\n",
    "plt.legend()\n",
    "plt.show()\n",
    "plt.plot(range(num_epochs),train_acc[0],'m',label=\"0.0001\") \n",
    "\n",
    "plt.plot(range(num_epochs),train_acc[1],'b',label=\"0.0002\") \n",
    "plt.plot(range(num_epochs),train_acc[2],'y',label=\"lr=0.0003\") \n",
    "plt.xlabel('Epochs')\n",
    "plt.ylabel('Training Accuracy')\n",
    "plt.legend()\n",
    "plt.show()"
   ]
  },
  {
   "cell_type": "code",
   "execution_count": null,
   "metadata": {
    "colab": {},
    "colab_type": "code",
    "id": "uDYsaASTaxUE"
   },
   "outputs": [],
   "source": []
  }
 ],
 "metadata": {
  "accelerator": "GPU",
  "colab": {
   "collapsed_sections": [],
   "name": "Prog_ass1_16IM30026.ipynb",
   "provenance": []
  },
  "kernelspec": {
   "display_name": "Python 3",
   "language": "python",
   "name": "python3"
  },
  "language_info": {
   "codemirror_mode": {
    "name": "ipython",
    "version": 3
   },
   "file_extension": ".py",
   "mimetype": "text/x-python",
   "name": "python",
   "nbconvert_exporter": "python",
   "pygments_lexer": "ipython3",
   "version": "3.7.3"
  }
 },
 "nbformat": 4,
 "nbformat_minor": 1
}
