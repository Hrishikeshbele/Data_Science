{
 "cells": [
  {
   "cell_type": "markdown",
   "metadata": {
    "colab_type": "text",
    "id": "jFe1OMCuj48A"
   },
   "source": [
    "## Steps of Natural Language Processing\n",
    "\n",
    "### 1. Pre-processing\n",
    "### 2. Tokenization\n",
    "### 3. Lemmatization\n",
    "### 4. Stemming\n",
    "### 5. POS Tagging\n",
    "### 6. Parsing\n",
    "### 7. Feature Extraction"
   ]
  },
  {
   "cell_type": "code",
   "execution_count": 1,
   "metadata": {
    "colab": {},
    "colab_type": "code",
    "id": "wlvhYt5_gGcB"
   },
   "outputs": [],
   "source": [
    "text = \"The discovery and archaeological study of Chandraketugarh, 35 kilometres (22 mi) north of Kolkata, provide evidence that the region in which the city stands has been inhabited for over two millennia. Kolkata's recorded history began in 1690 with the arrival of the English East India Company, which was consolidating its trade business in Bengal. Job Charnock, an administrator who worked for the company, was formerly credited as the founder of the city; In response to a public petition,[30] the Calcutta High Court ruled in 2003 that the city does not have a founder. The area occupied by the present-day city encompassed three villages: Kalikata, Gobindapur, and Sutanuti. Kalikata was a fishing village; Sutanuti was a riverside weavers' village. They were part of an estate belonging to the Mughal emperor; the jagirdari (a land grant bestowed by a king on his noblemen) taxation rights to the villages were held by the Sabarna Roy Choudhury family of landowners. These rights were transferred to the East India Company in 1698.\""
   ]
  },
  {
   "cell_type": "code",
   "execution_count": 6,
   "metadata": {
    "colab": {
     "base_uri": "https://localhost:8080/",
     "height": 101
    },
    "colab_type": "code",
    "id": "YGdCnYJLg7aM",
    "outputId": "b67e87e4-0161-448b-d718-d1e412ecc6e3"
   },
   "outputs": [
    {
     "name": "stdout",
     "output_type": "stream",
     "text": [
      "[nltk_data] Downloading package stopwords to C:\\Users\\Sourav-\n",
      "[nltk_data]     PC\\AppData\\Roaming\\nltk_data...\n",
      "[nltk_data]   Package stopwords is already up-to-date!\n",
      "[nltk_data] Downloading package punkt to C:\\Users\\Sourav-\n",
      "[nltk_data]     PC\\AppData\\Roaming\\nltk_data...\n",
      "[nltk_data]   Package punkt is already up-to-date!\n"
     ]
    },
    {
     "data": {
      "text/plain": [
       "True"
      ]
     },
     "execution_count": 6,
     "metadata": {},
     "output_type": "execute_result"
    }
   ],
   "source": [
    "import nltk\n",
    "from nltk import word_tokenize\n",
    "from nltk import sent_tokenize\n",
    "from nltk.corpus import stopwords\n",
    "import pandas as pd\n",
    "nltk.download('stopwords')\n",
    "stopwords = stopwords.words('english')\n",
    "nltk.download('punkt')"
   ]
  },
  {
   "cell_type": "code",
   "execution_count": 3,
   "metadata": {
    "colab": {
     "base_uri": "https://localhost:8080/",
     "height": 54
    },
    "colab_type": "code",
    "id": "RdsbmFINg7d8",
    "outputId": "a531def5-3ae4-46cf-c432-1c6ad1e4bf99"
   },
   "outputs": [
    {
     "name": "stdout",
     "output_type": "stream",
     "text": [
      "Drive already mounted at /content/gdrive; to attempt to forcibly remount, call drive.mount(\"/content/gdrive\", force_remount=True).\n"
     ]
    }
   ],
   "source": [
    "from google.colab import drive\n",
    "drive.mount('/content/gdrive')"
   ]
  },
  {
   "cell_type": "code",
   "execution_count": 0,
   "metadata": {
    "colab": {},
    "colab_type": "code",
    "id": "YBZO9hXtg7f1"
   },
   "outputs": [],
   "source": [
    "reviews_df = pd.read_json('gdrive/My Drive/Colab Notebooks/Automotive_5.json', lines=True)"
   ]
  },
  {
   "cell_type": "code",
   "execution_count": 2,
   "metadata": {},
   "outputs": [],
   "source": [
    "import os\n",
    "reviews_df = pd.read_json(r'C:\\Users\\Sourav-PC\\Downloads\\reviews_Automotive_5.json\\Automotive_5.json', lines=True)"
   ]
  },
  {
   "cell_type": "code",
   "execution_count": 3,
   "metadata": {
    "colab": {
     "base_uri": "https://localhost:8080/",
     "height": 35
    },
    "colab_type": "code",
    "id": "Q9xfD6Ofg7iz",
    "outputId": "f6017e7c-bcd1-41f0-f076-8ac2dcf7890a"
   },
   "outputs": [
    {
     "name": "stdout",
     "output_type": "stream",
     "text": [
      "A1U6RLUA8D5DSX\n"
     ]
    }
   ],
   "source": [
    "for i in reviews_df['reviewerID']:\n",
    "  if len((reviews_df.loc[reviews_df['reviewerID'] == i]))<50 and  len((reviews_df.loc[reviews_df['reviewerID'] == i]))>40:\n",
    "         print(i)\n",
    "         break"
   ]
  },
  {
   "cell_type": "code",
   "execution_count": 4,
   "metadata": {
    "colab": {
     "base_uri": "https://localhost:8080/",
     "height": 34
    },
    "colab_type": "code",
    "id": "FZ_mqkU2g7lp",
    "outputId": "ee020baf-b647-437e-b9d9-4fe694156d92"
   },
   "outputs": [
    {
     "name": "stdout",
     "output_type": "stream",
     "text": [
      "4.49\n"
     ]
    }
   ],
   "source": [
    "ratings = reviews_df['overall'][1000:2000]\n",
    "avg = sum(ratings)/len(ratings)\n",
    "print(avg)"
   ]
  },
  {
   "cell_type": "markdown",
   "metadata": {
    "colab_type": "text",
    "id": "mGYGA9rZZEx9"
   },
   "source": [
    "### Stopword Removal"
   ]
  },
  {
   "cell_type": "code",
   "execution_count": 7,
   "metadata": {
    "colab": {},
    "colab_type": "code",
    "id": "SFG6xoa7ZDcd"
   },
   "outputs": [],
   "source": [
    "import re\n",
    "total_text = pd.DataFrame()\n",
    "total_text['clean_text'] =  reviews_df['reviewText'][1000:2000].apply(lambda x: re.sub('[^a-zA-Z.]+', ' ', x))\n",
    "total_text['token'] = total_text['clean_text'].apply(lambda x: [item.lower() for item in x.split(' ') if item.lower() not in stopwords])\n",
    "total_text['clean_text'] =  total_text['token'].apply(lambda x: ' '.join(x))"
   ]
  },
  {
   "cell_type": "code",
   "execution_count": 7,
   "metadata": {
    "colab": {
     "base_uri": "https://localhost:8080/",
     "height": 1000
    },
    "colab_type": "code",
    "id": "iAz54auKv51Q",
    "outputId": "8cea6be0-f4b5-4755-a66d-84ec0aea68b3"
   },
   "outputs": [
    {
     "data": {
      "text/plain": [
       "0        I needed a set of jumper cables for my new car...\n",
       "1        These long cables work fine for my truck, but ...\n",
       "2        Can't comment much on these since they have no...\n",
       "3        I absolutley love Amazon!!!  For the price of ...\n",
       "4        I purchased the 12' feet long cable set and th...\n",
       "                               ...                        \n",
       "20468    I've bought 10 of these over the past year to ...\n",
       "20469    OK, I have to admit, the price of this item di...\n",
       "20470    I love my skull face mask. It makes me outstan...\n",
       "20471    This mask of course as described is half-face ...\n",
       "20472    Good light weight for just cool nights or rain...\n",
       "Name: reviewText, Length: 20473, dtype: object"
      ]
     },
     "execution_count": 7,
     "metadata": {},
     "output_type": "execute_result"
    }
   ],
   "source": [
    "reviews_df['reviewText']"
   ]
  },
  {
   "cell_type": "code",
   "execution_count": 8,
   "metadata": {
    "colab": {},
    "colab_type": "code",
    "id": "2inrdIjfvm2F"
   },
   "outputs": [
    {
     "data": {
      "text/plain": [
       "1000    worth money. use old cotton shirt cut up. also...\n",
       "1001    got use lexol leather cleaner spray. worked gr...\n",
       "1002    bought use lexol leather cleaner conditioner v...\n",
       "1003    love things. could cheaper still reasonable se...\n",
       "1004    nothing fancy basic terry cloth sponges.i used...\n",
       "                              ...                        \n",
       "1995    bought dad automatic satellite camper would ne...\n",
       "1996    used power compressor used change break fluid ...\n",
       "1997    adapter works clips open wide enough clamp bat...\n",
       "1998    clamps chincy wire guage smaller extension put...\n",
       "1999    bought viar p foot extension bucks feet . care...\n",
       "Name: clean_text, Length: 1000, dtype: object"
      ]
     },
     "execution_count": 8,
     "metadata": {},
     "output_type": "execute_result"
    }
   ],
   "source": [
    "total_text['clean_text']"
   ]
  },
  {
   "cell_type": "code",
   "execution_count": 9,
   "metadata": {
    "colab": {},
    "colab_type": "code",
    "collapsed": true,
    "id": "JH3bDOl1wWQU"
   },
   "outputs": [
    {
     "data": {
      "text/html": [
       "<div>\n",
       "<style scoped>\n",
       "    .dataframe tbody tr th:only-of-type {\n",
       "        vertical-align: middle;\n",
       "    }\n",
       "\n",
       "    .dataframe tbody tr th {\n",
       "        vertical-align: top;\n",
       "    }\n",
       "\n",
       "    .dataframe thead th {\n",
       "        text-align: right;\n",
       "    }\n",
       "</style>\n",
       "<table border=\"1\" class=\"dataframe\">\n",
       "  <thead>\n",
       "    <tr style=\"text-align: right;\">\n",
       "      <th></th>\n",
       "      <th>reviewerID</th>\n",
       "      <th>asin</th>\n",
       "      <th>reviewerName</th>\n",
       "      <th>helpful</th>\n",
       "      <th>reviewText</th>\n",
       "      <th>overall</th>\n",
       "      <th>summary</th>\n",
       "      <th>unixReviewTime</th>\n",
       "      <th>reviewTime</th>\n",
       "    </tr>\n",
       "  </thead>\n",
       "  <tbody>\n",
       "    <tr>\n",
       "      <th>0</th>\n",
       "      <td>A3F73SC1LY51OO</td>\n",
       "      <td>B00002243X</td>\n",
       "      <td>Alan Montgomery</td>\n",
       "      <td>[4, 4]</td>\n",
       "      <td>I needed a set of jumper cables for my new car...</td>\n",
       "      <td>5</td>\n",
       "      <td>Work Well - Should Have Bought Longer Ones</td>\n",
       "      <td>1313539200</td>\n",
       "      <td>08 17, 2011</td>\n",
       "    </tr>\n",
       "    <tr>\n",
       "      <th>1</th>\n",
       "      <td>A20S66SKYXULG2</td>\n",
       "      <td>B00002243X</td>\n",
       "      <td>alphonse</td>\n",
       "      <td>[1, 1]</td>\n",
       "      <td>These long cables work fine for my truck, but ...</td>\n",
       "      <td>4</td>\n",
       "      <td>Okay long cables</td>\n",
       "      <td>1315094400</td>\n",
       "      <td>09 4, 2011</td>\n",
       "    </tr>\n",
       "    <tr>\n",
       "      <th>2</th>\n",
       "      <td>A2I8LFSN2IS5EO</td>\n",
       "      <td>B00002243X</td>\n",
       "      <td>Chris</td>\n",
       "      <td>[0, 0]</td>\n",
       "      <td>Can't comment much on these since they have no...</td>\n",
       "      <td>5</td>\n",
       "      <td>Looks and feels heavy Duty</td>\n",
       "      <td>1374710400</td>\n",
       "      <td>07 25, 2013</td>\n",
       "    </tr>\n",
       "    <tr>\n",
       "      <th>3</th>\n",
       "      <td>A3GT2EWQSO45ZG</td>\n",
       "      <td>B00002243X</td>\n",
       "      <td>DeusEx</td>\n",
       "      <td>[19, 19]</td>\n",
       "      <td>I absolutley love Amazon!!!  For the price of ...</td>\n",
       "      <td>5</td>\n",
       "      <td>Excellent choice for Jumper Cables!!!</td>\n",
       "      <td>1292889600</td>\n",
       "      <td>12 21, 2010</td>\n",
       "    </tr>\n",
       "    <tr>\n",
       "      <th>4</th>\n",
       "      <td>A3ESWJPAVRPWB4</td>\n",
       "      <td>B00002243X</td>\n",
       "      <td>E. Hernandez</td>\n",
       "      <td>[0, 0]</td>\n",
       "      <td>I purchased the 12' feet long cable set and th...</td>\n",
       "      <td>5</td>\n",
       "      <td>Excellent, High Quality Starter Cables</td>\n",
       "      <td>1341360000</td>\n",
       "      <td>07 4, 2012</td>\n",
       "    </tr>\n",
       "    <tr>\n",
       "      <th>5</th>\n",
       "      <td>A1ORODEBRN64C</td>\n",
       "      <td>B00002243X</td>\n",
       "      <td>James F. Magowan \"Jimmy Mac\"</td>\n",
       "      <td>[1, 1]</td>\n",
       "      <td>These Jumper cables are heavy Duty, Yet easy t...</td>\n",
       "      <td>5</td>\n",
       "      <td>Compact and Strong !</td>\n",
       "      <td>1258156800</td>\n",
       "      <td>11 14, 2009</td>\n",
       "    </tr>\n",
       "    <tr>\n",
       "      <th>6</th>\n",
       "      <td>A2R49ZN3G6FTCQ</td>\n",
       "      <td>B00002243X</td>\n",
       "      <td>John M. Harrell</td>\n",
       "      <td>[1, 1]</td>\n",
       "      <td>bought these for my k2500 suburban plenty of l...</td>\n",
       "      <td>5</td>\n",
       "      <td>nice cables</td>\n",
       "      <td>1326153600</td>\n",
       "      <td>01 10, 2012</td>\n",
       "    </tr>\n",
       "    <tr>\n",
       "      <th>7</th>\n",
       "      <td>A1Q65KYDKXIX8E</td>\n",
       "      <td>B00002243X</td>\n",
       "      <td>Leeland H.</td>\n",
       "      <td>[0, 0]</td>\n",
       "      <td>these are good enough to get most motorized ve...</td>\n",
       "      <td>5</td>\n",
       "      <td>for cars and pickups</td>\n",
       "      <td>1371081600</td>\n",
       "      <td>06 13, 2013</td>\n",
       "    </tr>\n",
       "    <tr>\n",
       "      <th>8</th>\n",
       "      <td>A3BI8BKIHESDNQ</td>\n",
       "      <td>B00002243X</td>\n",
       "      <td>L. J. Cunningham</td>\n",
       "      <td>[0, 0]</td>\n",
       "      <td>The Coleman Cable 08665 12-Feet Heavy-Duty Tru...</td>\n",
       "      <td>4</td>\n",
       "      <td>Coleman Cable 08665 12-Feet Heavy-Duty Truck a...</td>\n",
       "      <td>1374105600</td>\n",
       "      <td>07 18, 2013</td>\n",
       "    </tr>\n",
       "    <tr>\n",
       "      <th>9</th>\n",
       "      <td>A1R089P5AS26UE</td>\n",
       "      <td>B00002243X</td>\n",
       "      <td>Mike</td>\n",
       "      <td>[0, 0]</td>\n",
       "      <td>I have an old car, Its bound to need these som...</td>\n",
       "      <td>5</td>\n",
       "      <td>Beefy</td>\n",
       "      <td>1390348800</td>\n",
       "      <td>01 22, 2014</td>\n",
       "    </tr>\n",
       "    <tr>\n",
       "      <th>10</th>\n",
       "      <td>A2TQST4IPVA0EC</td>\n",
       "      <td>B00002243Z</td>\n",
       "      <td>ACAR</td>\n",
       "      <td>[0, 0]</td>\n",
       "      <td>I seem to use jumper cables at least several t...</td>\n",
       "      <td>4</td>\n",
       "      <td>fine consumer grade</td>\n",
       "      <td>1381708800</td>\n",
       "      <td>10 14, 2013</td>\n",
       "    </tr>\n",
       "    <tr>\n",
       "      <th>11</th>\n",
       "      <td>A3MQAQT8C6D1I7</td>\n",
       "      <td>B00002243Z</td>\n",
       "      <td>AverageReviewer</td>\n",
       "      <td>[19, 21]</td>\n",
       "      <td>All other jumper cables are not real jumper ca...</td>\n",
       "      <td>5</td>\n",
       "      <td>Jumper Cables - The Real Deal</td>\n",
       "      <td>1287705600</td>\n",
       "      <td>10 22, 2010</td>\n",
       "    </tr>\n",
       "    <tr>\n",
       "      <th>12</th>\n",
       "      <td>A1C6RZG7XQZBUZ</td>\n",
       "      <td>B00002243Z</td>\n",
       "      <td>C. Beard \"I have not gone where I intended to...</td>\n",
       "      <td>[0, 0]</td>\n",
       "      <td>I'm one of those guys who stops and helps peop...</td>\n",
       "      <td>5</td>\n",
       "      <td>Great quality</td>\n",
       "      <td>1388102400</td>\n",
       "      <td>12 27, 2013</td>\n",
       "    </tr>\n",
       "    <tr>\n",
       "      <th>13</th>\n",
       "      <td>A3GT2EWQSO45ZG</td>\n",
       "      <td>B00002243Z</td>\n",
       "      <td>DeusEx</td>\n",
       "      <td>[20, 21]</td>\n",
       "      <td>So these aren't the best cables you can buy.  ...</td>\n",
       "      <td>4</td>\n",
       "      <td>Not sure if they're really 2ga</td>\n",
       "      <td>1292976000</td>\n",
       "      <td>12 22, 2010</td>\n",
       "    </tr>\n",
       "    <tr>\n",
       "      <th>14</th>\n",
       "      <td>A3I23XW4L5ITOG</td>\n",
       "      <td>B00002243Z</td>\n",
       "      <td>Hemmi06</td>\n",
       "      <td>[1, 1]</td>\n",
       "      <td>It is hard to find pure copper cabled jumper c...</td>\n",
       "      <td>4</td>\n",
       "      <td>Plated copper wire from what I see</td>\n",
       "      <td>1378598400</td>\n",
       "      <td>09 8, 2013</td>\n",
       "    </tr>\n",
       "    <tr>\n",
       "      <th>15</th>\n",
       "      <td>A30ASPRK2VP8QC</td>\n",
       "      <td>B00002243Z</td>\n",
       "      <td>Robin</td>\n",
       "      <td>[1, 3]</td>\n",
       "      <td>These are an insurance policy for my Land Rove...</td>\n",
       "      <td>4</td>\n",
       "      <td>Only 4 stars because I haven't used them</td>\n",
       "      <td>1358380800</td>\n",
       "      <td>01 17, 2013</td>\n",
       "    </tr>\n",
       "    <tr>\n",
       "      <th>16</th>\n",
       "      <td>A1KKOA3FP2DMBW</td>\n",
       "      <td>B00008BKX5</td>\n",
       "      <td>Brian LaFrance</td>\n",
       "      <td>[0, 0]</td>\n",
       "      <td>This product serves its purpose. I use it for ...</td>\n",
       "      <td>3</td>\n",
       "      <td>Does what I expected it to do.</td>\n",
       "      <td>1384473600</td>\n",
       "      <td>11 15, 2013</td>\n",
       "    </tr>\n",
       "    <tr>\n",
       "      <th>17</th>\n",
       "      <td>A3L1VJMHFWONCB</td>\n",
       "      <td>B00008BKX5</td>\n",
       "      <td>CDP \"Double00Buck\"</td>\n",
       "      <td>[3, 4]</td>\n",
       "      <td>Hitch extender is good for Kayak transport and...</td>\n",
       "      <td>4</td>\n",
       "      <td>Extend-A-Truck 944 Truck Bed Extender</td>\n",
       "      <td>1283731200</td>\n",
       "      <td>09 6, 2010</td>\n",
       "    </tr>\n",
       "    <tr>\n",
       "      <th>18</th>\n",
       "      <td>A1HPC4BDRLR60</td>\n",
       "      <td>B00008BKX5</td>\n",
       "      <td>Delta Echo</td>\n",
       "      <td>[51, 51]</td>\n",
       "      <td></td>\n",
       "      <td>5</td>\n",
       "      <td>No Brainer, Easy to Use, Sturdy</td>\n",
       "      <td>1313020800</td>\n",
       "      <td>08 11, 2011</td>\n",
       "    </tr>\n",
       "    <tr>\n",
       "      <th>19</th>\n",
       "      <td>A3IHX99Z9OK2Y9</td>\n",
       "      <td>B00008BKX5</td>\n",
       "      <td>Gulfcoast</td>\n",
       "      <td>[0, 0]</td>\n",
       "      <td>Package arrived a bit ragged but it was all th...</td>\n",
       "      <td>5</td>\n",
       "      <td>Easy install</td>\n",
       "      <td>1341792000</td>\n",
       "      <td>07 9, 2012</td>\n",
       "    </tr>\n",
       "    <tr>\n",
       "      <th>20</th>\n",
       "      <td>AT5F1MKA8C2IZ</td>\n",
       "      <td>B00008BKX5</td>\n",
       "      <td>R. Gillis</td>\n",
       "      <td>[0, 0]</td>\n",
       "      <td>This was exactly what I needed for transportin...</td>\n",
       "      <td>5</td>\n",
       "      <td>Love It!</td>\n",
       "      <td>1348531200</td>\n",
       "      <td>09 25, 2012</td>\n",
       "    </tr>\n",
       "    <tr>\n",
       "      <th>21</th>\n",
       "      <td>A4YV49T8Y0X94</td>\n",
       "      <td>B00008BKX5</td>\n",
       "      <td>RobbyB \"RobbyB\"</td>\n",
       "      <td>[0, 0]</td>\n",
       "      <td>I bought these to haul my two kayaks.  Works g...</td>\n",
       "      <td>4</td>\n",
       "      <td>Great idea</td>\n",
       "      <td>1342396800</td>\n",
       "      <td>07 16, 2012</td>\n",
       "    </tr>\n",
       "    <tr>\n",
       "      <th>22</th>\n",
       "      <td>A204K1OFE8OB9Y</td>\n",
       "      <td>B00008BKX5</td>\n",
       "      <td>Winter</td>\n",
       "      <td>[1, 1]</td>\n",
       "      <td>I have owned trucks for many years and gotten ...</td>\n",
       "      <td>5</td>\n",
       "      <td>Good design and solid construction and compact</td>\n",
       "      <td>1327363200</td>\n",
       "      <td>01 24, 2012</td>\n",
       "    </tr>\n",
       "    <tr>\n",
       "      <th>23</th>\n",
       "      <td>A36HBGDEFPWD0U</td>\n",
       "      <td>B00008RW9U</td>\n",
       "      <td>Brett</td>\n",
       "      <td>[1, 2]</td>\n",
       "      <td>This is a must for anybody who wants to keep t...</td>\n",
       "      <td>5</td>\n",
       "      <td>Perfect for my outside car!</td>\n",
       "      <td>1307232000</td>\n",
       "      <td>06 5, 2011</td>\n",
       "    </tr>\n",
       "    <tr>\n",
       "      <th>24</th>\n",
       "      <td>A2FJKITDY5UUHJ</td>\n",
       "      <td>B00008RW9U</td>\n",
       "      <td>Charles M. Cline</td>\n",
       "      <td>[3, 3]</td>\n",
       "      <td>this product does what it is supposed to do, b...</td>\n",
       "      <td>3</td>\n",
       "      <td>average</td>\n",
       "      <td>1241654400</td>\n",
       "      <td>05 7, 2009</td>\n",
       "    </tr>\n",
       "    <tr>\n",
       "      <th>25</th>\n",
       "      <td>A3LYC4BXRDE5RZ</td>\n",
       "      <td>B00008RW9U</td>\n",
       "      <td>Chi Car Guy</td>\n",
       "      <td>[3, 10]</td>\n",
       "      <td>I would not buy this product again. It does wh...</td>\n",
       "      <td>2</td>\n",
       "      <td>Does what it is supposed to</td>\n",
       "      <td>1248134400</td>\n",
       "      <td>07 21, 2009</td>\n",
       "    </tr>\n",
       "    <tr>\n",
       "      <th>26</th>\n",
       "      <td>AEL6CQNQXONBX</td>\n",
       "      <td>B00008RW9U</td>\n",
       "      <td>Cute Chihuahua</td>\n",
       "      <td>[0, 0]</td>\n",
       "      <td>I own the Original California Car Duster and i...</td>\n",
       "      <td>5</td>\n",
       "      <td>GREAT FOR THOSE WHO TAKE PRIDE IN THEIR RIDE</td>\n",
       "      <td>1230854400</td>\n",
       "      <td>01 2, 2009</td>\n",
       "    </tr>\n",
       "    <tr>\n",
       "      <th>27</th>\n",
       "      <td>A3APEIJOQXE142</td>\n",
       "      <td>B00008RW9U</td>\n",
       "      <td>Daniel Attila \"Daniel Attila\"</td>\n",
       "      <td>[0, 0]</td>\n",
       "      <td>Like most car detail enthusiasts, I never like...</td>\n",
       "      <td>5</td>\n",
       "      <td>Gentle yet effective</td>\n",
       "      <td>1248307200</td>\n",
       "      <td>07 23, 2009</td>\n",
       "    </tr>\n",
       "    <tr>\n",
       "      <th>28</th>\n",
       "      <td>A24EQC4LXYPT4E</td>\n",
       "      <td>B00008RW9U</td>\n",
       "      <td>Dave</td>\n",
       "      <td>[0, 0]</td>\n",
       "      <td>Takes the dust off my car without leaving any ...</td>\n",
       "      <td>5</td>\n",
       "      <td>What to say</td>\n",
       "      <td>1400198400</td>\n",
       "      <td>05 16, 2014</td>\n",
       "    </tr>\n",
       "    <tr>\n",
       "      <th>29</th>\n",
       "      <td>A2H5KD2A9MUZEX</td>\n",
       "      <td>B00008RW9U</td>\n",
       "      <td>Gaazmon</td>\n",
       "      <td>[0, 0]</td>\n",
       "      <td>Really the best car duster out there in my opi...</td>\n",
       "      <td>5</td>\n",
       "      <td>The best car duster</td>\n",
       "      <td>1362528000</td>\n",
       "      <td>03 6, 2013</td>\n",
       "    </tr>\n",
       "    <tr>\n",
       "      <th>...</th>\n",
       "      <td>...</td>\n",
       "      <td>...</td>\n",
       "      <td>...</td>\n",
       "      <td>...</td>\n",
       "      <td>...</td>\n",
       "      <td>...</td>\n",
       "      <td>...</td>\n",
       "      <td>...</td>\n",
       "      <td>...</td>\n",
       "    </tr>\n",
       "    <tr>\n",
       "      <th>20443</th>\n",
       "      <td>A2JMJVNTBL7K7E</td>\n",
       "      <td>B00I93BOZ0</td>\n",
       "      <td>K. Lin \"yesuaini99\"</td>\n",
       "      <td>[1, 1]</td>\n",
       "      <td>Great kit at a great price. Usually if you go ...</td>\n",
       "      <td>5</td>\n",
       "      <td>Funky car lighting kit</td>\n",
       "      <td>1396224000</td>\n",
       "      <td>03 31, 2014</td>\n",
       "    </tr>\n",
       "    <tr>\n",
       "      <th>20444</th>\n",
       "      <td>ASFW4ZMNZJKDA</td>\n",
       "      <td>B00I93BOZ0</td>\n",
       "      <td>Mainiac</td>\n",
       "      <td>[0, 0]</td>\n",
       "      <td>Ah, this is such goofy fun, to jazz up your ca...</td>\n",
       "      <td>5</td>\n",
       "      <td>Trick your ride! I love this kit! (Also works ...</td>\n",
       "      <td>1400025600</td>\n",
       "      <td>05 14, 2014</td>\n",
       "    </tr>\n",
       "    <tr>\n",
       "      <th>20445</th>\n",
       "      <td>A2X6J6AFLLYVXH</td>\n",
       "      <td>B00I93BOZ0</td>\n",
       "      <td>Michael Hilton</td>\n",
       "      <td>[0, 0]</td>\n",
       "      <td>Basically these led lights are a nice addition...</td>\n",
       "      <td>3</td>\n",
       "      <td>Bright but with some flaws</td>\n",
       "      <td>1397520000</td>\n",
       "      <td>04 15, 2014</td>\n",
       "    </tr>\n",
       "    <tr>\n",
       "      <th>20446</th>\n",
       "      <td>A105S56ODHGJEK</td>\n",
       "      <td>B00I93BOZ0</td>\n",
       "      <td>Peace Daddy \"Eclectic ReflectionZ\"</td>\n",
       "      <td>[0, 0]</td>\n",
       "      <td>We've never had a product like this before, bu...</td>\n",
       "      <td>4</td>\n",
       "      <td>interesting product</td>\n",
       "      <td>1400025600</td>\n",
       "      <td>05 14, 2014</td>\n",
       "    </tr>\n",
       "    <tr>\n",
       "      <th>20447</th>\n",
       "      <td>A3LGT6UZL99IW1</td>\n",
       "      <td>B00I93BOZ0</td>\n",
       "      <td>Richard C. Drew \"Anaal Nathra/Uthe vas Bethod...</td>\n",
       "      <td>[0, 0]</td>\n",
       "      <td>OK, I'm a light nut. I fabricate my own LED li...</td>\n",
       "      <td>5</td>\n",
       "      <td>Simple plug in and go - anyone can do it!</td>\n",
       "      <td>1397952000</td>\n",
       "      <td>04 20, 2014</td>\n",
       "    </tr>\n",
       "    <tr>\n",
       "      <th>20448</th>\n",
       "      <td>A3MQ15651KGVLJ</td>\n",
       "      <td>B00I93BOZ0</td>\n",
       "      <td>Rick L. Parrish</td>\n",
       "      <td>[0, 0]</td>\n",
       "      <td>Nice addition to the interior of any hot teens...</td>\n",
       "      <td>5</td>\n",
       "      <td>Tricks Out Well</td>\n",
       "      <td>1396569600</td>\n",
       "      <td>04 4, 2014</td>\n",
       "    </tr>\n",
       "    <tr>\n",
       "      <th>20449</th>\n",
       "      <td>AM9APPMIE1BHZ</td>\n",
       "      <td>B00I93BOZ0</td>\n",
       "      <td>Sparky Jones</td>\n",
       "      <td>[1, 1]</td>\n",
       "      <td>While most will probably install these inside ...</td>\n",
       "      <td>5</td>\n",
       "      <td>Super cool, super easy... installed these in m...</td>\n",
       "      <td>1395878400</td>\n",
       "      <td>03 27, 2014</td>\n",
       "    </tr>\n",
       "    <tr>\n",
       "      <th>20450</th>\n",
       "      <td>A1F7YU6O5RU432</td>\n",
       "      <td>B00JGM7Z5Q</td>\n",
       "      <td>Angela Streiff</td>\n",
       "      <td>[0, 0]</td>\n",
       "      <td>What an awesome idea this board is. It turns y...</td>\n",
       "      <td>5</td>\n",
       "      <td>Turn you stove top into a giant cutting board</td>\n",
       "      <td>1405814400</td>\n",
       "      <td>07 20, 2014</td>\n",
       "    </tr>\n",
       "    <tr>\n",
       "      <th>20451</th>\n",
       "      <td>A397CWU6DM3O5G</td>\n",
       "      <td>B00JGM7Z5Q</td>\n",
       "      <td>ganka</td>\n",
       "      <td>[1, 1]</td>\n",
       "      <td>The work surface is nice size, and built well....</td>\n",
       "      <td>5</td>\n",
       "      <td>The work surface is nice size, and built well</td>\n",
       "      <td>1404777600</td>\n",
       "      <td>07 8, 2014</td>\n",
       "    </tr>\n",
       "    <tr>\n",
       "      <th>20452</th>\n",
       "      <td>A1M1Y5UGONAW06</td>\n",
       "      <td>B00JGM7Z5Q</td>\n",
       "      <td>Jody</td>\n",
       "      <td>[1, 1]</td>\n",
       "      <td>I have a small kitchen, so using the stove top...</td>\n",
       "      <td>5</td>\n",
       "      <td>Wonderful kitchen asset!</td>\n",
       "      <td>1404259200</td>\n",
       "      <td>07 2, 2014</td>\n",
       "    </tr>\n",
       "    <tr>\n",
       "      <th>20453</th>\n",
       "      <td>A3SD3E6FIS6CS9</td>\n",
       "      <td>B00JGM7Z5Q</td>\n",
       "      <td>Marine Corps Nomad</td>\n",
       "      <td>[0, 0]</td>\n",
       "      <td>If you've ever needed a little more work space...</td>\n",
       "      <td>5</td>\n",
       "      <td>Beauty Meets Function</td>\n",
       "      <td>1405900800</td>\n",
       "      <td>07 21, 2014</td>\n",
       "    </tr>\n",
       "    <tr>\n",
       "      <th>20454</th>\n",
       "      <td>A376OJHLE6SU9Q</td>\n",
       "      <td>B00JGM7Z5Q</td>\n",
       "      <td>M. Wolf</td>\n",
       "      <td>[0, 0]</td>\n",
       "      <td>Thin,light weightDurableBeautifulThis is a MUC...</td>\n",
       "      <td>5</td>\n",
       "      <td>I love this for my home kitchen counter top</td>\n",
       "      <td>1405555200</td>\n",
       "      <td>07 17, 2014</td>\n",
       "    </tr>\n",
       "    <tr>\n",
       "      <th>20455</th>\n",
       "      <td>A25QJBK33C4O0R</td>\n",
       "      <td>B00JGM7Z5Q</td>\n",
       "      <td>terpfan1980 \"Barry\"</td>\n",
       "      <td>[4, 8]</td>\n",
       "      <td>Wife 2.0 has never much cared for the kitchen ...</td>\n",
       "      <td>4</td>\n",
       "      <td>Additional counter space, but have to be a lit...</td>\n",
       "      <td>1403654400</td>\n",
       "      <td>06 25, 2014</td>\n",
       "    </tr>\n",
       "    <tr>\n",
       "      <th>20456</th>\n",
       "      <td>A19UTUEBWKIZFT</td>\n",
       "      <td>B00JGP8I1S</td>\n",
       "      <td>AKN</td>\n",
       "      <td>[2, 2]</td>\n",
       "      <td>I live in a very sunny climate.  At least once...</td>\n",
       "      <td>5</td>\n",
       "      <td>Stops the glare from sun or at night</td>\n",
       "      <td>1404691200</td>\n",
       "      <td>07 7, 2014</td>\n",
       "    </tr>\n",
       "    <tr>\n",
       "      <th>20457</th>\n",
       "      <td>A1T1YSCDW0PD25</td>\n",
       "      <td>B00JGP8I1S</td>\n",
       "      <td>A. Wiersch</td>\n",
       "      <td>[0, 0]</td>\n",
       "      <td>This is an interesting product. It definitely ...</td>\n",
       "      <td>3</td>\n",
       "      <td>Good for some people, not for others</td>\n",
       "      <td>1405123200</td>\n",
       "      <td>07 12, 2014</td>\n",
       "    </tr>\n",
       "    <tr>\n",
       "      <th>20458</th>\n",
       "      <td>A34BZM6S9L7QI4</td>\n",
       "      <td>B00JGP8I1S</td>\n",
       "      <td>Candy Cane \"Is it just me?\"</td>\n",
       "      <td>[2, 2]</td>\n",
       "      <td>This actually works pretty well. The yellow re...</td>\n",
       "      <td>4</td>\n",
       "      <td>Not Great for SUV</td>\n",
       "      <td>1404604800</td>\n",
       "      <td>07 6, 2014</td>\n",
       "    </tr>\n",
       "    <tr>\n",
       "      <th>20459</th>\n",
       "      <td>AYB4ELCS5AM8P</td>\n",
       "      <td>B00JGP8I1S</td>\n",
       "      <td>John B. Goode \"JBG\"</td>\n",
       "      <td>[2, 2]</td>\n",
       "      <td>This is a vision visor for the car. It has two...</td>\n",
       "      <td>5</td>\n",
       "      <td>Works well for some situations...</td>\n",
       "      <td>1404518400</td>\n",
       "      <td>07 5, 2014</td>\n",
       "    </tr>\n",
       "    <tr>\n",
       "      <th>20460</th>\n",
       "      <td>A1EVV74UQYVKRY</td>\n",
       "      <td>B00JGP8I1S</td>\n",
       "      <td>K. Groh</td>\n",
       "      <td>[1, 1]</td>\n",
       "      <td>I'm afraid I'm not sold on this. It does exact...</td>\n",
       "      <td>3</td>\n",
       "      <td>Does What it Promises but Size is a Limitation</td>\n",
       "      <td>1405468800</td>\n",
       "      <td>07 16, 2014</td>\n",
       "    </tr>\n",
       "    <tr>\n",
       "      <th>20461</th>\n",
       "      <td>A1ODOGXEYECQQ8</td>\n",
       "      <td>B00JGP8I1S</td>\n",
       "      <td>Nuknuk</td>\n",
       "      <td>[2, 2]</td>\n",
       "      <td>It is a good sunshade for driving on bright su...</td>\n",
       "      <td>4</td>\n",
       "      <td>Flipshade</td>\n",
       "      <td>1405209600</td>\n",
       "      <td>07 13, 2014</td>\n",
       "    </tr>\n",
       "    <tr>\n",
       "      <th>20462</th>\n",
       "      <td>A3A4ZAIBQWKOZS</td>\n",
       "      <td>B00JGP8I1S</td>\n",
       "      <td>Stephen M. Lerch</td>\n",
       "      <td>[1, 1]</td>\n",
       "      <td>I received a visor set free for review purpose...</td>\n",
       "      <td>3</td>\n",
       "      <td>works, but has limitations you may not want to...</td>\n",
       "      <td>1404345600</td>\n",
       "      <td>07 3, 2014</td>\n",
       "    </tr>\n",
       "    <tr>\n",
       "      <th>20463</th>\n",
       "      <td>A1RH7WA3YFDQ5H</td>\n",
       "      <td>B00KIAQ8VW</td>\n",
       "      <td>Denise2012</td>\n",
       "      <td>[0, 0]</td>\n",
       "      <td>Keeps the bugs out of your mouth while looking...</td>\n",
       "      <td>5</td>\n",
       "      <td>Great Item</td>\n",
       "      <td>1373846400</td>\n",
       "      <td>07 15, 2013</td>\n",
       "    </tr>\n",
       "    <tr>\n",
       "      <th>20464</th>\n",
       "      <td>A1PMV0WV45OPEE</td>\n",
       "      <td>B00KIAQ8VW</td>\n",
       "      <td>Dwayne C.</td>\n",
       "      <td>[0, 0]</td>\n",
       "      <td>I use them all the time when I ride or not I h...</td>\n",
       "      <td>4</td>\n",
       "      <td>stretchable tubular</td>\n",
       "      <td>1387152000</td>\n",
       "      <td>12 16, 2013</td>\n",
       "    </tr>\n",
       "    <tr>\n",
       "      <th>20465</th>\n",
       "      <td>ACHBPQUWQZMSL</td>\n",
       "      <td>B00KIAQ8VW</td>\n",
       "      <td>ernies point of veiw</td>\n",
       "      <td>[0, 0]</td>\n",
       "      <td>i think this is a cool yet sweet looking half ...</td>\n",
       "      <td>5</td>\n",
       "      <td>wanna look cool then buy this you will love it</td>\n",
       "      <td>1384819200</td>\n",
       "      <td>11 19, 2013</td>\n",
       "    </tr>\n",
       "    <tr>\n",
       "      <th>20466</th>\n",
       "      <td>A1TEBSNK5A9XX9</td>\n",
       "      <td>B00KIAQ8VW</td>\n",
       "      <td>JUL</td>\n",
       "      <td>[0, 0]</td>\n",
       "      <td>I honestly don't think it's worth $3, but for ...</td>\n",
       "      <td>3</td>\n",
       "      <td>It's ok fo the money?</td>\n",
       "      <td>1394841600</td>\n",
       "      <td>03 15, 2014</td>\n",
       "    </tr>\n",
       "    <tr>\n",
       "      <th>20467</th>\n",
       "      <td>A212UJA6XIOTUT</td>\n",
       "      <td>B00KIAQ8VW</td>\n",
       "      <td>kaz</td>\n",
       "      <td>[0, 0]</td>\n",
       "      <td>very thin material. not very warm at all.. bar...</td>\n",
       "      <td>2</td>\n",
       "      <td>ehhhh</td>\n",
       "      <td>1392076800</td>\n",
       "      <td>02 11, 2014</td>\n",
       "    </tr>\n",
       "    <tr>\n",
       "      <th>20468</th>\n",
       "      <td>A1KB43BI085A48</td>\n",
       "      <td>B00KIAQ8VW</td>\n",
       "      <td>Mike F.</td>\n",
       "      <td>[1, 1]</td>\n",
       "      <td>I've bought 10 of these over the past year to ...</td>\n",
       "      <td>5</td>\n",
       "      <td>Excellent quality for the price</td>\n",
       "      <td>1396915200</td>\n",
       "      <td>04 8, 2014</td>\n",
       "    </tr>\n",
       "    <tr>\n",
       "      <th>20469</th>\n",
       "      <td>A3HIUWKL4D853W</td>\n",
       "      <td>B00KIAQ8VW</td>\n",
       "      <td>RayH</td>\n",
       "      <td>[0, 0]</td>\n",
       "      <td>OK, I have to admit, the price of this item di...</td>\n",
       "      <td>2</td>\n",
       "      <td>Light weight neck and face cover with whimsica...</td>\n",
       "      <td>1391472000</td>\n",
       "      <td>02 4, 2014</td>\n",
       "    </tr>\n",
       "    <tr>\n",
       "      <th>20470</th>\n",
       "      <td>A1S95WASXJ02VX</td>\n",
       "      <td>B00KIAQ8VW</td>\n",
       "      <td>Roberto Aguilar Jr.</td>\n",
       "      <td>[0, 0]</td>\n",
       "      <td>I love my skull face mask. It makes me outstan...</td>\n",
       "      <td>5</td>\n",
       "      <td>I love to ride with my Skull Face Mask.</td>\n",
       "      <td>1386547200</td>\n",
       "      <td>12 9, 2013</td>\n",
       "    </tr>\n",
       "    <tr>\n",
       "      <th>20471</th>\n",
       "      <td>A2IID0Z6EHF5KP</td>\n",
       "      <td>B00KIAQ8VW</td>\n",
       "      <td>Soarer</td>\n",
       "      <td>[0, 0]</td>\n",
       "      <td>This mask of course as described is half-face ...</td>\n",
       "      <td>5</td>\n",
       "      <td>Great neck protection</td>\n",
       "      <td>1357171200</td>\n",
       "      <td>01 3, 2013</td>\n",
       "    </tr>\n",
       "    <tr>\n",
       "      <th>20472</th>\n",
       "      <td>A3HKZTFCPIK2OE</td>\n",
       "      <td>B00KIAQ8VW</td>\n",
       "      <td>SSG Barnes (ABN) \"James C. Barnes\"</td>\n",
       "      <td>[0, 0]</td>\n",
       "      <td>Good light weight for just cool nights or rain...</td>\n",
       "      <td>5</td>\n",
       "      <td>FACE MASK</td>\n",
       "      <td>1395100800</td>\n",
       "      <td>03 18, 2014</td>\n",
       "    </tr>\n",
       "  </tbody>\n",
       "</table>\n",
       "<p>20473 rows × 9 columns</p>\n",
       "</div>"
      ],
      "text/plain": [
       "           reviewerID        asin                        reviewerName  \\\n",
       "0      A3F73SC1LY51OO  B00002243X                     Alan Montgomery   \n",
       "1      A20S66SKYXULG2  B00002243X                            alphonse   \n",
       "2      A2I8LFSN2IS5EO  B00002243X                               Chris   \n",
       "3      A3GT2EWQSO45ZG  B00002243X                              DeusEx   \n",
       "4      A3ESWJPAVRPWB4  B00002243X                        E. Hernandez   \n",
       "...               ...         ...                                 ...   \n",
       "20468  A1KB43BI085A48  B00KIAQ8VW                             Mike F.   \n",
       "20469  A3HIUWKL4D853W  B00KIAQ8VW                                RayH   \n",
       "20470  A1S95WASXJ02VX  B00KIAQ8VW                 Roberto Aguilar Jr.   \n",
       "20471  A2IID0Z6EHF5KP  B00KIAQ8VW                              Soarer   \n",
       "20472  A3HKZTFCPIK2OE  B00KIAQ8VW  SSG Barnes (ABN) \"James C. Barnes\"   \n",
       "\n",
       "        helpful                                         reviewText  overall  \\\n",
       "0        [4, 4]  I needed a set of jumper cables for my new car...        5   \n",
       "1        [1, 1]  These long cables work fine for my truck, but ...        4   \n",
       "2        [0, 0]  Can't comment much on these since they have no...        5   \n",
       "3      [19, 19]  I absolutley love Amazon!!!  For the price of ...        5   \n",
       "4        [0, 0]  I purchased the 12' feet long cable set and th...        5   \n",
       "...         ...                                                ...      ...   \n",
       "20468    [1, 1]  I've bought 10 of these over the past year to ...        5   \n",
       "20469    [0, 0]  OK, I have to admit, the price of this item di...        2   \n",
       "20470    [0, 0]  I love my skull face mask. It makes me outstan...        5   \n",
       "20471    [0, 0]  This mask of course as described is half-face ...        5   \n",
       "20472    [0, 0]  Good light weight for just cool nights or rain...        5   \n",
       "\n",
       "                                                 summary  unixReviewTime  \\\n",
       "0             Work Well - Should Have Bought Longer Ones      1313539200   \n",
       "1                                       Okay long cables      1315094400   \n",
       "2                             Looks and feels heavy Duty      1374710400   \n",
       "3                  Excellent choice for Jumper Cables!!!      1292889600   \n",
       "4                 Excellent, High Quality Starter Cables      1341360000   \n",
       "...                                                  ...             ...   \n",
       "20468                    Excellent quality for the price      1396915200   \n",
       "20469  Light weight neck and face cover with whimsica...      1391472000   \n",
       "20470            I love to ride with my Skull Face Mask.      1386547200   \n",
       "20471                              Great neck protection      1357171200   \n",
       "20472                                          FACE MASK      1395100800   \n",
       "\n",
       "        reviewTime  \n",
       "0      08 17, 2011  \n",
       "1       09 4, 2011  \n",
       "2      07 25, 2013  \n",
       "3      12 21, 2010  \n",
       "4       07 4, 2012  \n",
       "...            ...  \n",
       "20468   04 8, 2014  \n",
       "20469   02 4, 2014  \n",
       "20470   12 9, 2013  \n",
       "20471   01 3, 2013  \n",
       "20472  03 18, 2014  \n",
       "\n",
       "[20473 rows x 9 columns]"
      ]
     },
     "execution_count": 9,
     "metadata": {},
     "output_type": "execute_result"
    }
   ],
   "source": [
    "reviews_df"
   ]
  },
  {
   "cell_type": "code",
   "execution_count": 7,
   "metadata": {
    "colab": {
     "base_uri": "https://localhost:8080/",
     "height": 118
    },
    "colab_type": "code",
    "id": "XzWGcZC130l3",
    "outputId": "3db3d234-6d26-4691-f4ba-bbc6904cd5c5"
   },
   "outputs": [
    {
     "name": "stdout",
     "output_type": "stream",
     "text": [
      "[nltk_data] Downloading package punkt to C:\\Users\\Sourav-\n",
      "[nltk_data]     PC\\AppData\\Roaming\\nltk_data...\n",
      "[nltk_data]   Package punkt is already up-to-date!\n",
      "[nltk_data] Downloading package averaged_perceptron_tagger to\n",
      "[nltk_data]     C:\\Users\\Sourav-PC\\AppData\\Roaming\\nltk_data...\n",
      "[nltk_data]   Package averaged_perceptron_tagger is already up-to-\n",
      "[nltk_data]       date!\n"
     ]
    }
   ],
   "source": [
    "from nltk import word_tokenize, pos_tag, pos_tag_sents\n",
    "import nltk\n",
    "nltk.download('punkt')\n",
    "nltk.download('averaged_perceptron_tagger')\n",
    "\n",
    "texts_train = total_text['clean_text'].tolist()\n",
    "tagged_texts_train = pos_tag_sents(map(word_tokenize, texts_train))\n",
    "total_text['POS'] = tagged_texts_train"
   ]
  },
  {
   "cell_type": "code",
   "execution_count": 8,
   "metadata": {},
   "outputs": [
    {
     "data": {
      "text/plain": [
       "1000    worth money. use old cotton shirt cut up. also...\n",
       "1001    got use lexol leather cleaner spray. worked gr...\n",
       "1002    bought use lexol leather cleaner conditioner v...\n",
       "1003    love things. could cheaper still reasonable se...\n",
       "1004    nothing fancy basic terry cloth sponges.i used...\n",
       "                              ...                        \n",
       "1995    bought dad automatic satellite camper would ne...\n",
       "1996    used power compressor used change break fluid ...\n",
       "1997    adapter works clips open wide enough clamp bat...\n",
       "1998    clamps chincy wire guage smaller extension put...\n",
       "1999    bought viar p foot extension bucks feet . care...\n",
       "Name: clean_text, Length: 1000, dtype: object"
      ]
     },
     "execution_count": 8,
     "metadata": {},
     "output_type": "execute_result"
    }
   ],
   "source": [
    "total_text['clean_text']"
   ]
  },
  {
   "cell_type": "code",
   "execution_count": 9,
   "metadata": {},
   "outputs": [
    {
     "data": {
      "text/plain": [
       "1000    [worth, money., use, old, cotton, shirt, cut, ...\n",
       "1001    [got, use, lexol, leather, cleaner, spray., wo...\n",
       "1002    [bought, use, lexol, leather, cleaner, conditi...\n",
       "1003    [love, things., could, cheaper, still, reasona...\n",
       "1004    [nothing, fancy, basic, terry, cloth, sponges....\n",
       "                              ...                        \n",
       "1995    [bought, dad, automatic, satellite, camper, wo...\n",
       "1996    [used, power, compressor, used, change, break,...\n",
       "1997    [adapter, works, clips, open, wide, enough, cl...\n",
       "1998    [clamps, chincy, wire, guage, smaller, extensi...\n",
       "1999    [bought, viar, p, foot, extension, bucks, feet...\n",
       "Name: token, Length: 1000, dtype: object"
      ]
     },
     "execution_count": 9,
     "metadata": {},
     "output_type": "execute_result"
    }
   ],
   "source": [
    "total_text['token']"
   ]
  },
  {
   "cell_type": "code",
   "execution_count": 12,
   "metadata": {
    "colab": {
     "base_uri": "https://localhost:8080/",
     "height": 1000
    },
    "colab_type": "code",
    "id": "6FKy3CGT5ULW",
    "outputId": "d749ea52-9872-4570-9c2a-a7946db97ed8"
   },
   "outputs": [
    {
     "data": {
      "text/plain": [
       "1000    [(worth, JJ), (money, NN), (., .), (use, NN), ...\n",
       "1001    [(got, NNS), (use, VBP), (lexol, JJ), (leather...\n",
       "1002    [(bought, VBN), (use, NN), (lexol, VBZ), (leat...\n",
       "1003    [(love, VB), (things, NNS), (., .), (could, MD...\n",
       "1004    [(nothing, NN), (fancy, JJ), (basic, JJ), (ter...\n",
       "                              ...                        \n",
       "1995    [(bought, VBN), (dad, NNS), (automatic, JJ), (...\n",
       "1996    [(used, VBN), (power, NN), (compressor, NN), (...\n",
       "1997    [(adapter, NN), (works, VBZ), (clips, NNS), (o...\n",
       "1998    [(clamps, NNS), (chincy, NN), (wire, NN), (gua...\n",
       "1999    [(bought, VBN), (viar, NNS), (p, JJ), (foot, J...\n",
       "Name: POS, Length: 1000, dtype: object"
      ]
     },
     "execution_count": 12,
     "metadata": {},
     "output_type": "execute_result"
    }
   ],
   "source": [
    "total_text['POS']"
   ]
  },
  {
   "cell_type": "code",
   "execution_count": 13,
   "metadata": {
    "colab": {},
    "colab_type": "code",
    "id": "msIYjZFnmz1U"
   },
   "outputs": [],
   "source": [
    "import numpy as np \n",
    "import pandas as pd \n",
    "import seaborn as sns \n",
    "import matplotlib.pyplot as plt \n",
    "from sklearn import preprocessing, svm \n",
    "from sklearn.model_selection import train_test_split \n",
    "from sklearn.linear_model import LinearRegression \n",
    "import matplotlib.pyplot as plot\n",
    "from sklearn.metrics import mean_squared_error\n",
    "xTrain, xTest, yTrain, yTest = train_test_split(total_text['clean_text'], ratings, test_size = 0.2, random_state = 0)\n",
    "\n"
   ]
  },
  {
   "cell_type": "markdown",
   "metadata": {
    "colab_type": "text",
    "id": "jNcKY-4Rpf9w"
   },
   "source": [
    "### Features with out pre-processing "
   ]
  },
  {
   "cell_type": "code",
   "execution_count": 14,
   "metadata": {
    "colab": {
     "base_uri": "https://localhost:8080/",
     "height": 205
    },
    "colab_type": "code",
    "collapsed": true,
    "id": "T1EhzNoFmzvw",
    "outputId": "08ce24dc-677e-4328-8022-75eb9ff88271"
   },
   "outputs": [
    {
     "name": "stdout",
     "output_type": "stream",
     "text": [
      "{'handy': 837, 'toss': 1758, 'trunk': 1791, 'using': 1844, 'protect': 1175, 'ciggy': 293, 'lighter': 950, 'socket': 1507, 'could': 393, 'get': 773, 'every': 602, 'car': 235, 'one': 1081, 'use': 1836, 'air': 42, 'pump': 1184, 'powerful': 1153, 'camp': 226, 'light': 949, 'note': 1064, 'plugs': 1137, 'limited': 955, 'around': 95, 'amps': 65, 'fuse': 748, 'circuit': 297, 'breaker': 170, 'addition': 22, 'long': 968, 'run': 1340, 'small': 1490, 'higher': 866, 'resistance': 1293, 'wire': 1945, 'jack': 910, 'may': 1001, 'cause': 256, 'voltage': 1875, 'drop': 534, 'equipment': 593, 'short': 1441, 'hard': 843, 'wiring': 1947, 'directly': 478, 'next': 1057, 'best': 129, 'thing': 1710, 'this': 1716, 'none': 1061, 'course': 399, 'battery': 122, 'know': 924, 'sparks': 1530, 'fingers': 683, 'you': 1993, 'might': 1016, 'also': 54, 'want': 1882, 'pick': 1125, 'heavy': 855, 'duty': 552, 'female': 663, 'plug': 1136, 'extension': 621, 'cord': 383, 'hi': 863, 'lift': 948, 'name': 1047, 'still': 1591, 'first': 689, 'sceptical': 1366, 'didnt': 465, 'seem': 1396, 'solid': 1511, 'regardless': 1261, 'test': 1689, 'attached': 99, 'jeep': 911, 'problem': 1168, 'great': 812, 'product': 1172, 'money': 1032, 'worked': 1963, 'described': 451, 'built': 195, 'well': 1916, 'highly': 868, 'recommend': 1245, 'anyone': 75, 'works': 1966, 'cars': 246, 'purchased': 1188, 'due': 543, 'fact': 636, 'unfortunately': 1818, 'collision': 330, 'another': 71, 'driver': 530, 'hit': 869, 'passenger': 1113, 'side': 1451, 'backing': 111, 'up': 1825, 'anyway': 77, 'decent': 433, 'scratches': 1374, 'along': 52, 'doors': 511, 'white': 1931, 'marks': 997, 'vehicle': 1857, 'after': 34, 'cleaning': 312, 'area': 92, 'lightly': 951, 'applying': 88, 'meguiars': 1010, 'applicator': 84, 'pads': 1103, 'cheap': 275, 'ended': 582, 'worth': 1972, 'many': 994, 'eyesore': 632, 'actually': 17, 'gone': 797, 'applied': 85, 'minutes': 1024, 'bad': 112, 'areas': 93, 'minor': 1022, 'working': 1964, 'adding': 21, 'miracle': 1025, 'cure': 415, 'paint': 1105, 'means': 1004, 'sure': 1641, 'deep': 437, 'last': 927, 'wash': 1889, 'even': 599, 'gets': 774, 'wet': 1919, 'mild': 1017, 'rain': 1208, 'shower': 1444, 'would': 1974, 'used': 1838, 'meguiar': 1009, 'products': 1173, 'trust': 1792, 'brand': 165, 'leather': 934, 'cleaner': 311, 'conditioner': 358, 'years': 1988, 'bmw': 140, 'pleased': 1134, 'results': 1302, 'weekly': 1913, 'easy': 561, 'leave': 935, 'excessive': 610, 'residue': 1292, 'house': 882, 'furniture': 747, 'etc': 596, 'comes': 338, 'gram': 807, 'bar': 115, 'based': 119, 'reviews': 1309, 'cut': 417, 'pieces': 1127, 'pretty': 1159, 'sticky': 1590, 'solution': 1512, 'smells': 1496, 'good': 798, 'little': 964, 'bit': 135, 'concerned': 355, 'liquid': 959, 'runs': 1342, 'out': 1095, 'somebody': 1514, 'point': 1139, 'dish': 492, 'oz': 1099, 'per': 1119, 'water': 1897, 'job': 912, 'strong': 1615, 'spreader': 1555, 'really': 1233, 'fit': 690, 'perfect': 1120, 'refinishing': 1255, 'rotors': 1330, 'leaving': 937, 'place': 1128, 'bought': 156, 'gage': 751, 'wife': 1937, 'friendly': 738, 'sealed': 1383, 'dirt': 479, 'real': 1231, 'thats': 1697, 'myself': 1046, 'sw': 1648, 'considered': 366, 'types': 1808, 'plastic': 1131, 'boxes': 160, 'tupperware': 1798, 'super': 1634, 'fits': 691, 'left': 939, 'cornerof': 385, 'glance': 780, 'appears': 81, 'flimsy': 705, 'opened': 1086, 'filled': 672, 'quite': 1203, 'substantial': 1625, 'hold': 871, 'tremendousamount': 1780, 'stuff': 1619, 'consider': 365, 'second': 1390, 'simichrome': 1459, 'golf': 796, 'map': 995, 'torch': 1756, 'heat': 854, 'epoxy': 591, 'caused': 257, 'stain': 1565, 'form': 724, 'surface': 1642, 'oxidation': 1098, 'removed': 1276, 'blue': 139, 'magic': 987, 'less': 941, 'expensive': 618, 'readily': 1228, 'available': 105, 'tried': 1783, 'ducati': 542, 'exhaust': 613, 'turned': 1800, 'purple': 1189, 'cylinder': 419, 'heads': 852, 'dent': 445, 'help': 858, 'reduce': 1252, 'notice': 1066, 'seems': 1398, 'provide': 1179, 'brighter': 176, 'luster': 984, 'polished': 1141, 'surfaces': 1643, 'brushed': 183, 'overall': 1097, 'stars': 1572, 'find': 679, 'felt': 662, 'provided': 1180, 'shinier': 1428, 'finish': 684, 'application': 82, 'always': 57, 'permatex': 1123, 'creates': 412, 'nice': 1058, 'seal': 1381, 'knock': 923, 'sensor': 1407, 'harness': 848, 'replaced': 1285, 'sensors': 1408, 'newly': 1056, 'tahoe': 1661, 'setup': 1414, 'avoid': 107, 'getting': 775, 'rear': 1235, 'exactly': 607, 'need': 1049, 'to': 1743, 'wore': 1961, 'gloves': 787, 'easier': 558, 'cleanup': 313, 'patience': 1116, 'attention': 100, 'span': 1527, 'got': 801, 'seconds': 1391, 'rubbing': 1339, 'stupid': 1620, 'going': 794, 'rant': 1216, 'calmed': 222, 'rubbed': 1336, 'scratch': 1372, 'without': 1952, 'damaging': 422, 'away': 108, 'way': 1902, 'tell': 1679, 'obviously': 1073, 'work': 1962, 'haze': 849, 'method': 1013, 'half': 831, 'circular': 299, 'grain': 806, 'rub': 1335, 'direction': 475, 'removing': 1279, 'compound': 352, 'likely': 954, 'screw': 1375, 'more': 1035, 'item': 907, 'arrived': 96, 'looking': 972, 'unit': 1821, 'quality': 1197, 'looks': 973, 'start': 1573, 'neighbors': 1053, 'plenty': 1135, 'power': 1150, 'weak': 1905, 'least': 933, 'ready': 1230, 'gapped': 757, 'new': 1055, 'ten': 1683, 'toolbox': 1751, 'put': 1193, 'pressure': 1158, 'electrode': 572, 'gap': 756, 'wider': 1934, 'makes': 991, 'design': 453, 'third': 1715, 'like': 952, 'lose': 975, 'never': 1054, 'style': 1622, 'make': 990, 'hole': 874, 'open': 1085, 'resting': 1296, 'lip': 958, 'closed': 319, 'garage': 758, 'accident': 7, 'happened': 840, 'smart': 1493, 'detect': 461, 'door': 510, 'closing': 320, 'much': 1043, 'technology': 1678, 'making': 992, 'life': 947, 'back': 110, 'instead': 900, 'depending': 447, 'cam': 223, 'any': 74, 'huge': 884, 'taillights': 1665, 'able': 0, 'remove': 1275, 'chrome': 290, 'taillight': 1664, 'knew': 922, 'apply': 87, 'buff': 188, 'regular': 1263, 'cotton': 391, 'towel': 1766, 'microfiber': 1015, 'towels': 1767, 'soft': 1508, 'mine': 1021, 'scope': 1368, 'today': 1744, 'noticed': 1067, 'sensitive': 1406, 'was': 1888, 'hear': 853, 'it': 906, 'vein': 1859, 'low': 980, 'build': 193, 'disappointing': 482, 'probe': 1167, 'tip': 1740, 'shown': 1446, 'fragile': 730, 'bend': 128, 'careful': 240, 'cannot': 228, 'compare': 344, 'say': 1362, 'come': 337, 'future': 749, 'keep': 915, 'sturdy': 1621, 'case': 248, 'sort': 1520, 'disassemble': 483, 'prior': 1163, 'storing': 1601, 'since': 1465, 'fairly': 643, 'radius': 1206, 'allowable': 48, 'ear': 554, 'tight': 1731, 'ears': 556, 'while': 1930, 'extremely': 629, 'sounds': 1521, 'touching': 1762, 'part': 1109, 'produces': 1171, 'lot': 978, 'mind': 1020, 'distracting': 497, 'user': 1842, 'time': 1736, 'discerning': 487, 'noise': 1060, 'bumping': 199, 'moving': 1042, 'for': 719, 'price': 1161, 'free': 735, 'shipping': 1432, 'all': 47, 'chip': 285, 'stick': 1588, 'reasonably': 1237, 'hiding': 864, 'stone': 1593, 'chips': 286, 'black': 137, 'polish': 1140, 'effective': 566, 'rags': 1207, 'hoping': 878, 'fill': 671, 'smallest': 1492, 'dice': 463, 'anything': 76, 'yet': 1991, 'made': 986, 'needed': 1050, 'secure': 1393, 'band': 114, 'boot': 147, 'tool': 1750, 'disc': 485, 'brake': 163, 'calibers': 218, 'big': 131, 'wasted': 1895, 'did': 464, 'push': 1191, 'in': 891, 'clamp': 301, 'lisle': 960, 'pad': 1102, 'yellow': 1989, 'color': 331, 'turn': 1799, 'look': 970, 'though': 1719, 'reds': 1251, 'colors': 332, 'dark': 423, 'better': 130, 'something': 1516, 'else': 575, 'collinite': 329, 'choice': 287, 'pros': 1174, 'drippy': 527, 'grab': 803, 'dry': 539, 'durability': 546, 'approx': 90, 'months': 1034, 'parked': 1108, 'fills': 674, 'swirling': 1651, 'leaves': 936, 'slickcons': 1478, 'stains': 1567, 'trim': 1784, 'rubber': 1337, 'needs': 1052, 'thin': 1709, 'otherwise': 1093, 'take': 1666, 'streak': 1606, 'hot': 880, 'usedoverall': 1839, 'wax': 1898, 'total': 1759, 'steal': 1582, 'ive': 909, 'spray': 1552, 'detailer': 458, 'shine': 1424, 'ever': 601, 'company': 343, 'clear': 314, 'silicone': 1456, 'sealer': 1384, 'mechanic': 1006, 'threadlocker': 1724, 'received': 1239, 'tube': 1796, 'amazon': 60, 'rest': 1295, 'order': 1089, 'seen': 1399, 'box': 159, 'must': 1044, 'go': 791, 'grabber': 805, 'claw': 305, 'found': 727, 'those': 1718, 'here': 862, 'parts': 1112, 'hood': 876, 'shines': 1425, 'mothers': 1037, 'turtle': 1803, 'uv': 1846, 'gloss': 784, 'protectant': 1176, 'liked': 953, 'taillamp': 1663, 'covers': 404, 'however': 883, 'running': 1341, 'greasy': 811, 'wiping': 1944, 'required': 1289, 'saved': 1356, 'butt': 207, 'combined': 335, 'ft': 742, 'strap': 1605, 'extreme': 628, 'pull': 1183, 'gnarly': 790, 'bottom': 154, 'snowmobile': 1503, 'trail': 1772, 'yesterday': 1990, 'effed': 567, 'bag': 113, 'crap': 408, 'gear': 765, 'inexpensive': 894, 'license': 945, 'plate': 1132, 'holder': 872, 'allows': 49, 'sit': 1468, 'edge': 563, 'old': 1078, 'chose': 289, 'swirl': 1650, 'remover': 1277, 'aggressive': 37, 'shape': 1420, 'bucket': 186, 'hand': 832, 'washed': 1890, 'clay': 306, 'embedded': 576, 'matter': 1000, 'surprising': 1645, 'looked': 971, 'clean': 309, 'eye': 630, 'claying': 308, 'porter': 1145, 'cable': 214, 'polisher': 1142, 'orbital': 1088, 'simple': 1462, 'divided': 499, 'section': 1392, 'putting': 1195, 'polishing': 1144, 'excess': 609, 'immediately': 888, 'see': 1395, 'inch': 892, 'foam': 712, 'enough': 586, 'excellent': 608, 'similar': 1460, 'condition': 357, 'combination': 334, 'guess': 824, 'whole': 1932, 'satisfied': 1354, 'right': 1313, 'finished': 685, 'trick': 1781, 'ramp': 1212, 'speed': 1539, 'setting': 1413, 'maybe': 1002, 'afraid': 33, 'burn': 202, 'coat': 324, 'ultimate': 1810, 'waxed': 1899, 'try': 1794, 'topping': 1755, 'carnauba': 243, 'type': 1807, 'filter': 676, 'removal': 1274, 'vehicles': 1858, 'smaller': 1491, 'thinner': 1714, 'filters': 677, 'cutting': 418, 'search': 1387, 'brought': 181, 'tighten': 1732, 'oil': 1076, 'loosen': 974, 'failed': 640, 'easily': 560, 'the': 1698, 'cost': 388, 'cons': 364, 'think': 1712, 'therefore': 1704, 'bright': 175, 'flare': 697, 'nothing': 1065, 'emergency': 578, 'lexol': 944, 'helped': 859, 'wives': 1954, 'underwear': 1817, 'now': 1068, 'read': 1227, 'ford': 721, 'seat': 1389, 'tanthat': 1669, 'shows': 1449, 'crazy': 410, 'fell': 660, 'almost': 50, 'loss': 976, 'someone': 1515, 'anal': 66, 'screws': 1376, 'covering': 403, 'cases': 249, 'harley': 846, 'sportster': 1549, 'aluminum': 56, 'chromed': 291, 'accessories': 6, 'recommendation': 1246, 'friend': 737, 'amazingly': 59, 'cheapest': 277, 'goes': 793, 'mother': 1036, 'finally': 678, 'bottle': 152, 'dried': 524, 'buffs': 191, 'cover': 400, 'action': 16, 'starting': 1575, 'texas': 1692, 'frame': 732, 'wanted': 1883, 'frames': 733, 'truck': 1787, 'washing': 1893, 'flaked': 695, 'off': 1074, 'kit': 921, 'barring': 116, 'bounds': 158, 'weeks': 1914, 'lasting': 929, 'initial': 897, 'quick': 1200, 'droppings': 537, 'alone': 51, 'amazing': 58, 'feeling': 658, 'smooth': 1498, 'smell': 1494, 'keeping': 916, 'fenders': 665, 'bumpers': 198, 'wrangler': 1977, 'kind': 920, 'freak': 734, 'baby': 109, 'fellow': 661, 'stop': 1595, 'rei': 1266, 'ask': 98, 'kept': 918, 'definitely': 440, 'although': 55, 'far': 650, 'me': 1003, 'save': 1355, 'replacement': 1286, 'costs': 390, 'saving': 1359, 'gas': 759, 'issues': 905, 'taught': 1675, 'lincoln': 956, 'head': 850, 'tires': 1742, 'days': 426, 'tread': 1777, 'tire': 1741, 'materials': 999, 'different': 468, 'specifically': 1535, 'designed': 454, 'task': 1674, 'milton': 1018, 'clip': 316, 'sized': 1473, 'gauge': 762, 'tells': 1680, 'wearing': 1908, 'crawling': 409, 'wheel': 1923, 'groove': 819, 'down': 514, 'rests': 1300, 'stay': 1579, 'glasses': 782, 'people': 1118, 'alike': 45, 'stopping': 1598, 'important': 889, 'mechanical': 1007, 'feature': 656, 'role': 1322, 'particularly': 1111, 'road': 1319, 'conditions': 359, 'slippery': 1486, 'checking': 280, 'expense': 617, 'replacing': 1287, 'check': 278, 'often': 1075, 'large': 925, 'wear': 1907, 'driving': 533, 'safety': 1350, 'flaw': 702, 'star': 1571, 'rating': 1222, 'everything': 604, 'inflator': 896, 'material': 998, 'withstand': 1953, 'review': 1307, 'caliberated': 217, 'high': 865, 'end': 581, 'digital': 471, 'reading': 1229, 'consistantly': 368, 'psi': 1182, 'lower': 981, 'chevy': 282, 'duramax': 548, 'dually': 541, 'simply': 1464, 'inflate': 895, 'achieve': 14, 'so': 1504, 'word': 1960, 'wise': 1948, 'caliberate': 216, 'rely': 1269, 'completely': 350, 'value': 1849, 'compressor': 354, 'change': 266, 'break': 169, 'fluid': 710, 'love': 979, 'gadget': 750, 'lost': 977, 'sleeve': 1477, 'clips': 317, 'deducted': 436, 'sliding': 1481, 'deal': 427, 'buy': 210, 'others': 1092, 'top': 1754, 'experience': 619, 'ramps': 1213, 'line': 957, 'wide': 1933, 'confidence': 361, 'move': 1041, 'these': 1705, 'shells': 1423, 'supports': 1638, 'inside': 898, 'storage': 1599, 'took': 1749, 'times': 1738, 'let': 942, 'face': 634, 'probably': 1166, 'raised': 1211, 'wheels': 1925, 'suffered': 1629, 'terror': 1688, 'realized': 1232, 'wrong': 1982, 'decided': 435, 'drive': 528, 'doing': 505, 'full': 743, 'mirror': 1027, 'target': 1673, 'mounted': 1039, 'set': 1412, 'floor': 708, 'wall': 1880, 'adjusted': 27, 'front': 739, 'vastly': 1855, 'transmission': 1774, 'slowly': 1489, 'contact': 372, 'fast': 652, 'suspension': 1646, 'bounce': 157, 'damage': 421, 'underside': 1814, 'tester': 1691, 'ignition': 886, 'systems': 1658, 'trucks': 1789, 'worse': 1970, 'whether': 1929, 'not': 1063, 'plus': 1138, 'sparkplug': 1529, 'grounding': 821, 'fun': 744, 'charger': 272, 'replace': 1284, 'lasted': 928, 'twice': 1804, 'week': 1912, 'shop': 1438, 'ways': 1903, 'hope': 877, 'missing': 1028, 'automatic': 102, 'shut': 1450, 'charged': 271, 'standard': 1569, 'flat': 701, 'camera': 225, 'plates': 1133, 'mounting': 1040, 'straight': 1603, 'rather': 1221, 'taking': 1668, 'lock': 967, 'nuts': 1071, 'bracket': 162, 'drilled': 526, 'threaded': 1723, 'add': 19, 'caps': 234, 'cruiser': 413, 'complicated': 351, 'reliable': 1268, 'extra': 624, 'bits': 136, 'pumping': 1185, 'failure': 641, 'cheaper': 276, 'longer': 969, 'simpler': 1463, 'dispense': 494, 'capability': 231, 'holds': 873, 'liter': 962, 'versus': 1864, 'entire': 590, 'mercedes': 1011, 'either': 570, 'model': 1031, 'emptying': 580, 'extractor': 626, 'drain': 518, 'empty': 579, 'theory': 1701, 'draining': 519, 'pan': 1107, 'whereas': 1928, 'typically': 1809, 'seven': 1416, 'year': 1987, 'spots': 1551, 'dirty': 480, 'repainting': 1281, 'restore': 1297, 'da': 420, 'compounds': 353, 'searched': 1388, 'web': 1911, 'instructions': 901, 'watched': 1896, 'video': 1869, 'comments': 342, 'url': 1830, 'clayed': 307, 'ultra': 1811, 'followed': 716, 'finishing': 686, 'saw': 1361, 'reduction': 1253, 'single': 1467, 'glaze': 783, 'two': 1806, 'coats': 325, 'nxt': 1072, 'happy': 842, 'month': 1033, 'significant': 1454, 'earlier': 555, 'only': 1083, 'downside': 515, 'weather': 1909, 'keeps': 917, 'supposed': 1640, 'do': 501, 'problems': 1169, 'whatsoever': 1922, 'california': 219, 'gold': 795, 'washes': 1892, 'ran': 1214, 'feel': 657, 'difference': 467, 'appreciably': 89, 'smoother': 1499, 'included': 893, 'slide': 1479, 'smudges': 1500, 'appear': 79, 'warns': 1887, 'dropped': 535, 'discarded': 486, 'dropping': 536, 'smelled': 1495, 'cinnamon': 294, 'fan': 648, 'unpleasant': 1824, 'useful': 1840, 'applications': 83, 'priced': 1162, 'stand': 1568, 'prep': 1155, 'waxingthe': 1901, 'cool': 381, 'comfortably': 340, 'lay': 930, 'burning': 203, 'hour': 881, 'rated': 1220, 'ease': 557, 'scale': 1364, 'stays': 1581, 'depth': 449, 'ya': 1985, 'spent': 1541, 'fowler': 729, 'possible': 1148, 'yokohama': 1992, 'woul': 1973, 'batteries': 121, 'worry': 1968, 'about': 1, 'tad': 1659, 'touch': 1761, 'cub': 414, 'fool': 717, 'viair': 1866, 'things': 1711, 'bypassing': 213, 'cigarette': 292, 'charge': 270, 'trickle': 1782, 'chargers': 273, 'wish': 1949, 'clamps': 302, 'terminals': 1685, 'connectors': 363, 'paste': 1115, 'jobs': 913, 'similary': 1461, 'removers': 1278, 'shallow': 1419, 'specialized': 1534, 'eagle': 553, 'discontinued': 489, 'filling': 673, 'visible': 1873, 'certain': 261, 'viewing': 1871, 'angles': 69, 'expect': 614, 'miracles': 1026, 'ryobi': 1347, 'cleaned': 310, 'green': 815, 'warm': 1886, 'various': 1853, 'risk': 1318, 'purchase': 1187, 'roll': 1323, 'lucky': 983, 'day': 425, 'currently': 416, 'listed': 961, 'seller': 1402, 'source': 1522, 'supplier': 1636, 'tools': 1752, 'mityvac': 1029, 'protective': 1178, 'card': 237, 'board': 141, 'handle': 835, 'undamaged': 1813, 'supplied': 1635, 'checked': 279, 'upper': 1827, 'lid': 946, 'ensure': 587, 'came': 224, 'gasket': 760, 'stated': 1577, 'units': 1822, 'bother': 150, 'tested': 1690, 'evaucation': 598, 'drawing': 522, 'gallon': 754, 'antifreeze': 73, 'quickly': 1202, 'refilling': 1254, 'returning': 1305, 'container': 373, 'throughly': 1727, 'botton': 155, 'reservoir': 1291, 'tubing': 1797, 'rigid': 1314, 'plan': 1130, 'flexible': 704, 'hose': 879, 'local': 965, 'hardware': 845, 'store': 1600, 'give': 776, 'spend': 1540, 'dollars': 506, 'dealerships': 430, 'switch': 1654, 'constantly': 370, 'paid': 1104, 'selves': 1404, 'rebuilt': 1238, 'fork': 723, 'manage': 993, 'ones': 1082, 'breaking': 171, 'metal': 1012, 'helps': 861, 'prevent': 1160, 'rust': 1343, 'bolts': 145, 'studs': 1618, 'anti': 72, 'seize': 1400, 'winter': 1940, 'needing': 1051, 'again': 35, 'bolt': 144, 'struc': 1617, 'tie': 1730, 'rod': 1321, 'nut': 1070, 'caliper': 220, 'dont': 508, 'tolerate': 1747, 'degree': 442, 'chance': 265, 'sea': 1379, 'doo': 509, 'normal': 1062, 'confirm': 362, 'spark': 1528, 'several': 1417, 'mainly': 989, 'cart': 247, 'scrape': 1370, 'onto': 1084, 'excited': 611, 'went': 1918, 'changed': 267, 'adjust': 26, 'height': 856, 'quicker': 1201, 'frontier': 740, 'waited': 1878, 'fingernails': 682, 'fair': 642, 'usa': 1832, 'caveats': 259, 'suv': 1647, 'wells': 1917, 'reviewer': 1308, 'convenient': 377, 'consuming': 371, 'step': 1586, 'three': 1726, 'positions': 1147, 'choose': 288, 'thumb': 1729, 'painted': 1106, 'tightly': 1735, 'difficult': 469, 'shipped': 1431, 'position': 1146, 'if': 885, 'buttons': 209, 'width': 1935, 'adjustment': 29, 'rubbermaid': 1338, 'stool': 1594, 'costco': 389, 'anchor': 67, 'window': 1939, 'wiper': 1942, 'access': 5, 'roof': 1324, 'device': 462, 'update': 1826, 'trying': 1795, 'returned': 1304, 'thank': 1693, 'return': 1303, 'shopping': 1439, 'trustworthy': 1793, 'classic': 304, 'yourself': 1994, 'perfectly': 1121, 'dusty': 551, 'birds': 134, 'wipe': 1941, 'takes': 1667, 'buying': 211, 'gallons': 755, 'continued': 375, 'micro': 1014, 'powerball': 1151, 'hands': 836, 'reflect': 1256, 'showroom': 1448, 'size': 1472, 'install': 899, 'temperature': 1682, 'changes': 268, 'slight': 1482, 'tap': 1670, 'glad': 779, 'sl': 1475, 'sitting': 1470, 'weathered': 1910, 'rough': 1331, 'deposits': 448, 'night': 1059, 'repeated': 1283, 'process': 1170, 'within': 1951, 'cant': 229, 'smile': 1497, 'everyone': 603, 'wants': 1884, 'done': 507, 'tech': 1677, 'recommending': 1248, 'states': 1578, 'require': 1288, 'state': 1576, 'bars': 117, 'they': 1706, 'restored': 1298, 'bumper': 197, 'fender': 664, 'draw': 521, 'dise': 491, 'said': 1351, 'interior': 903, 'doea': 502, 'dust': 549, 'regularly': 1264, 'buffer': 189, 'toughest': 1764, 'guaranteed': 823, 'youtube': 1996, 'gaskets': 761, 'leaks': 932, 'temp': 1681, 'fixes': 694, 'permanent': 1122, 'uses': 1843, 'endless': 583, 'dries': 525, 'resistant': 1294, 'cap': 230, 'substance': 1624, 'ultrablack': 1812, 'wonderful': 1956, 'tough': 1763, 'sealant': 1382, 'tend': 1684, 'harden': 844, 'particular': 1110, 'ounce': 1094, 'package': 1101, 'description': 452, 'base': 118, 'scraping': 1371, 'age': 36, 'rentals': 1280, 'stage': 1564, 'element': 573, 'beautiful': 125, 'showing': 1445, 'family': 647, 'thanksgiving': 1695, 'pro': 1165, 'vacuum': 1847, 'detailing': 459, 'rinse': 1317, 'gentle': 772, 'slow': 1488, 'chamois': 264, 'cloth': 321, 'spot': 1550, 'cranny': 407, 'imagine': 887, 'unless': 1823, 'literally': 963, 'showpiece': 1447, 'fail': 639, 'when': 1926, 'gorgeous': 800, 'dispell': 493, 'amongst': 62, 'reverse': 1306, 'dull': 544, 'wierd': 1936, 'science': 1367, 'theories': 1700, 'rediculous': 1250, 'that': 1696, 'tiny': 1739, 'airborn': 43, 'specks': 1537, 'rock': 1320, 'space': 1524, 'debris': 432, 'basically': 120, 'splinters': 1546, 'rtv': 1334, 'intended': 902, 'engine': 584, 'general': 767, 'near': 1048, 'gray': 810, 'desirable': 455, 'true': 1790, 'speakers': 1531, 'spacers': 1525, 'especially': 594, 'troublesome': 1786, 'disposable': 495, 'squeeze': 1560, 'easiest': 559, 'slightly': 1483, 'larger': 926, 'calk': 221, 'gun': 825, 'quantity': 1198, 'helpful': 860, 'slides': 1480, 'spring': 1556, 'durable': 547, 'abuse': 3, 'thrown': 1728, 'removable': 1273, 'absorb': 2, 'red': 1249, 'harm': 847, 'scratched': 1373, 'waxing': 1900, 'additional': 23, 'swirlmark': 1652, 'useless': 1841, 'ok': 1077, 'room': 1325, 'edges': 564, 'catch': 253, 'on': 1080, 'accord': 11, 'rich': 1310, 'sp': 1523, 'dual': 540, 'securely': 1394, 'swirls': 1653, 'sling': 1485, 'machine': 985, 'rotates': 1328, 'becomes': 126, 'drag': 517, 'rotation': 1329, 'thick': 1707, 'tapered': 1671, 'solved': 1513, 'velcro': 1860, 'facing': 635, 'september': 1410, 'flawlessly': 703, 'there': 1703, 'already': 53, 'brief': 174, 'what': 1920, 'couple': 396, 'crank': 406, 'cables': 215, 'generally': 768, 'accomplish': 10, 'whatever': 1921, 'chintzy': 284, 'exact': 606, 'volts': 1876, 'timed': 1737, 'capacity': 233, 'giving': 778, 'four': 728, 'spite': 1544, 'shortcomings': 1442, 'comfortable': 339, 'told': 1746, 'weaknesses': 1906, 'wheeling': 1924, 'functions': 746, 'selected': 1401, 'release': 1267, 'valve': 1850, 'accidentally': 8, 'swivels': 1655, 'fitted': 692, 'ring': 1316, 'places': 1129, 'beats': 124, 'function': 745, 'broken': 180, 'handily': 834, 'bigger': 132, 'cork': 384, 'stopper': 1597, 'slime': 1484, 'sealing': 1385, 'punctures': 1186, 'automobile': 103, 'leak': 931, 'care': 238, 'happens': 841, 'driven': 529, 'serious': 1411, 'significantly': 1455, 'deflated': 441, 'tear': 1676, 'greater': 813, 'address': 24, 'spair': 1526, 'consists': 369, 'according': 12, 'adequate': 25, 'treat': 1778, 'subtract': 1627, 'fifteen': 669, 'foot': 718, 'rate': 1219, 'amp': 64, 'older': 1079, 'circuits': 298, 'thought': 1720, 'situations': 1471, 'changing': 269, 'valuable': 1848, 'capable': 232, 'genius': 771, 'follow': 715, 'directions': 477, 'dash': 424, 'shinny': 1429, 'amount': 63, 'suppose': 1639, 'gotten': 802, 'pushing': 1192, 'them': 1699, 'forgiveness': 722, 'defective': 439, 'covered': 402, 'rusting': 1345, 'usually': 1845, 'recently': 1242, 'cared': 239, 'detail': 456, 'complaints': 349, 'believe': 127, 'airing': 44, 'cats': 254, 'guy': 827, 'complain': 348, 'pound': 1149, 'recheck': 1243, 'snap': 1501, 'certified': 262, 'average': 106, 'kids': 919, 'thanks': 1694, 'broke': 179, 'protection': 1177, 'reason': 1236, 'separate': 1409, 'comparison': 346, 'provides': 1181, 'level': 943, 'double': 512, 'soap': 1505, 'yr': 1997, 'van': 1851, 'yrs': 1998, 'bum': 196, 'wondering': 1957, 'sooo': 1519, 'shineyi': 1427, 'does': 503, 'evenly': 600, 'threads': 1725, 'press': 1157, 'measure': 1005, 'rotate': 1327, 'sides': 1452, 'stacked': 1563, 'minute': 1023, 'treatment': 1779, 'rains': 1209, 'streaks': 1607, 'dressed': 523, 'strengthen': 1609, 'causing': 258, 'fry': 741, 'exterior': 622, 'sidings': 1453, 'gave': 764, 'impressed': 890, 'brands': 166, 'stronger': 1616, 'handful': 833, 'coming': 341, 'hitch': 870, 'show': 1443, 'seafoam': 1380, 'silikroil': 1457, 'close': 318, 'cobra': 326, 'rid': 1311, 'tho': 1717, 'tightened': 1733, 'circles': 296, 'grip': 817, 'canister': 227, 'dig': 470, 'sheet': 1422, 'slipping': 1487, 'wrench': 1979, 'tightening': 1734, 'circle': 295, 'held': 857, 'springs': 1557, 'mount': 1038, 'accommodate': 9, 'variety': 1852, 'sizes': 1474, 'original': 1091, 'factory': 638, 'diy': 500, 'across': 15, 'dozen': 516, 'started': 1574, 'silver': 1458, 'wait': 1877, 'whenever': 1927, 'charm': 274, 'trouble': 1785, 'suburban': 1628, 'useable': 1837, 'chain': 263, 'hanging': 838, 'thicker': 1708, 'rember': 1271, 'streek': 1608, 'weight': 1915, 'issue': 904, 'written': 1981, 'gives': 777, 'number': 1069, 'track': 1769, 'bugs': 192, 'ground': 820, 'gmc': 789, 'terrain': 1687, 'both': 149, 'routine': 1332, 'faster': 654, 'expected': 615, 'fiber': 667, 'cloths': 323, 'coverage': 401, 'wd': 1904, 'center': 260, 'sole': 1510, 'dealership': 429, 'dealer': 428, 'generation': 769, 'deeper': 438, 'mustang': 1045, 'gaining': 753, 'by': 212, 'expecting': 616, 'wow': 1976, 'factor': 637, 'focus': 714, 'wonder': 1955, 'sinceclear': 1466, 'glossy': 785, 'advise': 31, 'polishes': 1143, 'chemicals': 281, 'fashioned': 651, 'pyrotechnic': 1196, 'flares': 698, 'pack': 1100, 'auto': 101, 'distributor': 498, 'via': 1865, 'shipment': 1430, 'requirements': 1290, 'flammable': 696, 'goods': 799, 'enter': 588, 'led': 938, 'button': 208, 'flashes': 699, 'magnet': 988, 'figured': 670, 'refrigerator': 1258, 'grabbed': 804, 'as': 97, 'usable': 1834, 'directional': 476, 'strip': 1611, 'rd': 1225, 'turns': 1802, 'externally': 623, 'remember': 1272, 'gain': 752, 'aim': 41, 'eyes': 631, 'with': 1950, 'reflector': 1257, 'spread': 1554, 'dim': 472, 'usability': 1833, 'brightness': 177, 'story': 1602, 'elements': 574, 'added': 20, 'fragrance': 731, 'compared': 345, 'waste': 1894, 'market': 996, 'genesis': 770, 'coupe': 395, 'semi': 1405, 'armorall': 94, 'haha': 830, 'decide': 434, 'considering': 367, 'shoe': 1436, 'strenuous': 1610, 'workout': 1965, 'shoes': 1437, 'recent': 1241, 'automotive': 104, 'arb': 91, 'essential': 595, 'carry': 245, 'subaru': 1623, 'dependable': 446, 'result': 1301, 'prefer': 1154, 'agree': 40, 'reapply': 1234, 'guys': 828, 'fireing': 687, 'wont': 1958, 'wounder': 1975, 'recomend': 1244, 'yourselfers': 1995, 'shops': 1440, 'bothered': 151, 'depths': 450, 'travel': 1776, 'trailer': 1773, 'electric': 571, 'controller': 376, 'gauges': 763, 'brakes': 164, 'beat': 123, 'boss': 148, 'wipes': 1943, 'discover': 490, 'safe': 1349, 'affected': 32, 'sun': 1633, 'brings': 178, 'aging': 38, 'mechanics': 1008, 'stethoscope': 1587, 'ago': 39, 'physicians': 1124, 'picked': 1126, 'somewhere': 1518, 'repairs': 1282, 'catalog': 251, 'ordered': 1090, 'versatile': 1863, 'stem': 1585, 'conductor': 360, 'writing': 1980, 'ships': 1433, 'bundled': 201, 'finds': 681, 'annoying': 70, 'squeaks': 1559, 'rattles': 1224, 'zero': 1999, 'squeak': 1558, 'locate': 966, 'walls': 1881, 'sewing': 1418, 'specialist': 1533, 'scopes': 1369, 'anywhere': 78, 'us': 1831, 'home': 875, 'recommended': 1247, 'business': 205, 'exclusively': 612, 'purposes': 1190, 'lubricant': 982, 'contamination': 374, 'freshly': 736, 'body': 143, 'prepping': 1156, 'synthetic': 1656, 'film': 675, 'thinking': 1713, 'glove': 786, 'combo': 336, 'accutire': 13, 'thread': 1722, 'soapy': 1506, 'effortless': 569, 'too': 1748, 'corvette': 387, 'caught': 255, 'site': 1469, 'scalifornia': 1365, 'viewers': 1870, 'stopped': 1596, 'stock': 1592, 'substitute': 1626, 'equal': 592, 'enthused': 589, 'strive': 1614, 'items': 908, 'seemed': 1397, 'bunch': 200, 'boyfriend': 161, 'outside': 1096, 'relying': 1270, 'catastrophic': 252, 'disaster': 484, 'powered': 1152, 'casual': 250, 'staying': 1580, 'alive': 46, 'sleepy': 1476, 'trucker': 1788, 'demolishing': 443, 'concerns': 356, 'greatly': 814, 'fall': 646, 'claim': 300, 'flashlights': 700, 'but': 206, 'china': 283, 'and': 68, 'together': 1745, 'vdc': 1856, 'gunk': 826, 'fantastic': 649, 'effect': 565, 'rims': 1315, 'xj': 1984, 'abused': 4, 'fastener': 653, 'vibration': 1868, 'ther': 1702, 'correct': 386, 'torque': 1757, 'specifications': 1536, 'compatible': 347, 'among': 61, 'ups': 1828, 'dusters': 550, 'past': 1114, 'warehouse': 1885, 'rooms': 1326, 'rv': 1346, 'fiberglass': 668, 'gelcoat': 766, 'burns': 204, 'totally': 1760, 'builds': 194, 'scrub': 1377, 'brush': 182, 'spin': 1543, 'worst': 1971, 'floatation': 707, 'soil': 1509, 'sand': 1352, 'couches': 392, 'enjoy': 585, 'terms': 1686, 'breathing': 172, 'clothes': 322, 'scrubbing': 1378, 'foams': 713, 'ventilate': 1862, 'sponge': 1548, 'appearance': 80, 'understated': 1816, 'detaling': 460, 'sap': 1353, 'tar': 1672, 'refunded': 1260, 'vinyl': 1872, 'fabric': 633, 'setups': 1415, 'regards': 1262, 'sticks': 1589, 'sadly': 1348, 'doubt': 513, 'graveled': 809, 'shock': 1434, 'brz': 184, 'dip': 473, 'ventage': 1861, 'com': 333, 'finding': 680, 'coupons': 398, 'world': 1967, 'conveyance': 380, 'sometimes': 1517, 'receiving': 1240, 'coupon': 397, 'saves': 1358, 'savings': 1360, 'saver': 1357, 'twilight': 1805, 'usage': 1835, 'traditional': 1770, 'emergencies': 577, 'craftsman': 405, 'doesnt': 504, 'advertised': 30, 'buell': 187, 'xb': 1983, 'ss': 1561, 'specs': 1538, 'extractors': 627, 'pela': 1117, 'experienced': 620, 'spill': 1542, 'everywhere': 605, 'bubble': 185, 'dump': 545, 'force': 720, 'splash': 1545, 'turning': 1801, 'upside': 1829, 'forums': 726, 'ecstatic': 562, 'evacuate': 597, 'dealing': 431, 'fluids': 711, 'extract': 625, 'bottles': 153, 'quarts': 1199, 'conventional': 378, 'drains': 520, 'coolers': 382, 'sump': 1632, 'system': 1657, 'rattle': 1223, 'refund': 1259, 'yakima': 1986, 'racks': 1205, 'bike': 133, 'carriers': 244, 'selling': 1403, 'says': 1363, 'rack': 1204, 'viar': 1867, 'feet': 659, 'wires': 1946, 'windex': 1938, 'min': 1019, 'glue': 788, 'adapter': 18, 'direct': 474, 'reach': 1226, 'unhitch': 1820, 'tow': 1765, 'disabled': 481, 'blow': 138, 'puts': 1194, 'waiting': 1879, 'summer': 1631, 'worrying': 1969, 'rainy': 1210, 'faux': 655, 'wood': 1959, 'toothbrush': 1753, 'stripping': 1612, 'seals': 1386, 'jumper': 914, 'prius': 1164, 'dies': 466, 'swap': 1649, 'toyota': 1768, 'highlander': 867, 'crc': 411, 'flow': 709, 'opinion': 1087, 'disconnect': 488, 'collar': 328, 'mm': 1030, 'supplies': 1637, 'strangle': 1604, 'thousand': 1721, 'effort': 568, 'stack': 1562, 'flitz': 706, 'distant': 496, 'brasso': 168, 'formula': 725, 'voc': 1874, 'regulation': 1265, 'drives': 531, 'standing': 1570, 'driveway': 532, 'glass': 781, 'detailed': 457, 'brick': 173, 'strips': 1613, 'restores': 1299, 'range': 1215, 'rover': 1333, 'shocked': 1435, 'split': 1547, 'fitting': 693, 'god': 792, 'carbon': 236, 'tag': 1660, 'ffsince': 666, 'washer': 1891, 'snaps': 1502, 'trap': 1775, 'rusted': 1344, 'suggest': 1630, 'stainless': 1566, 'steel': 1583, 'understand': 1815, 'grit': 818, 'grime': 816, 'shiney': 1426, 'surfce': 1644, 'special': 1532, 'firm': 688, 'wrapped': 1978, 'applies': 86, 'tailgate': 1662, 'boat': 142, 'cargo': 242, 'steep': 1584, 'drops': 538, 'book': 146, 'demonstrated': 444, 'headlight': 851, 'lenses': 940, 'buffing': 190, 'clarity': 303, 'brass': 167, 'cleared': 315, 'carefull': 241, 'sprays': 1553, 'happen': 839, 'sharp': 1421, 'ha': 829, 'rig': 1312, 'unhappy': 1819, 'cold': 327, 'guage': 822, 'faith': 644, 'faithful': 645, 'vast': 1854, 'convertible': 379, 'granite': 808, 'countertops': 394, 'adjusting': 28, 'ratchet': 1217, 'ratcheting': 1218, 'traffic': 1771}\n",
      "(800, 2000)\n",
      "<class 'scipy.sparse.csr.csr_matrix'>\n",
      "[[0 0 0 ... 0 0 0]\n",
      " [0 0 0 ... 0 0 0]\n",
      " [0 0 0 ... 2 0 0]\n",
      " ...\n",
      " [0 0 0 ... 0 0 0]\n",
      " [0 0 0 ... 0 0 0]\n",
      " [0 0 0 ... 0 0 0]]\n"
     ]
    }
   ],
   "source": [
    "from sklearn.feature_extraction.text import CountVectorizer\n",
    "# list of text documents\n",
    "#text = review_text.tolist()\n",
    "# create the transform\n",
    "vectorizer = CountVectorizer(max_features=2000)\n",
    "# tokenize and build vocab\n",
    "vector_train = vectorizer.fit_transform(xTrain)\n",
    "vector_test = vectorizer.fit_transform(xTest)\n",
    "# summarize\n",
    "print(vectorizer.vocabulary_)\n",
    "# encode document\n",
    "#vector = vectorizer.transform(text)\n",
    "# summarize encoded vector\n",
    "print(vector_train.shape)\n",
    "print(type(vector_train))\n",
    "print(vector_train.toarray())\n"
   ]
  },
  {
   "cell_type": "code",
   "execution_count": 125,
   "metadata": {
    "colab": {},
    "colab_type": "code",
    "id": "IEdGJ8kftD3K"
   },
   "outputs": [
    {
     "data": {
      "text/plain": [
       "(800,)"
      ]
     },
     "execution_count": 125,
     "metadata": {},
     "output_type": "execute_result"
    }
   ],
   "source": [
    "yTrain.shape"
   ]
  },
  {
   "cell_type": "code",
   "execution_count": 15,
   "metadata": {
    "colab": {},
    "colab_type": "code",
    "id": "4-uZ31CZmzyr"
   },
   "outputs": [],
   "source": [
    "import numpy as np \n",
    "import pandas as pd \n",
    "import seaborn as sns \n",
    "import matplotlib.pyplot as plt \n",
    "from sklearn import preprocessing, svm \n",
    "from sklearn.model_selection import train_test_split \n",
    "from sklearn.linear_model import LinearRegression \n",
    "import matplotlib.pyplot as plot\n",
    "from sklearn.metrics import mean_squared_error"
   ]
  },
  {
   "cell_type": "code",
   "execution_count": 16,
   "metadata": {
    "colab": {
     "base_uri": "https://localhost:8080/",
     "height": 67
    },
    "colab_type": "code",
    "id": "ZO5exp1NMPMH",
    "outputId": "d7145795-14c4-48c3-97de-52878544be4b"
   },
   "outputs": [
    {
     "name": "stdout",
     "output_type": "stream",
     "text": [
      "Slope: [ 0.22052654  0.00831514 -0.17062119 ... -0.31512764  0.0827449\n",
      " -0.08548663]\n",
      "Root mean squared error:  2.710748704862615\n"
     ]
    }
   ],
   "source": [
    "import matplotlib.pyplot as plt\n",
    "from sklearn.metrics import mean_squared_error\n",
    "\n",
    "linearRegressor = LinearRegression()\n",
    "\n",
    "\n",
    "linearRegressor.fit(vector_train, yTrain)\n",
    "pred = linearRegressor.predict(vector_test)\n",
    "\n",
    "# model evaluation\n",
    "rmse = mean_squared_error(yTest, pred)\n",
    "#r2 = r2_score(yTest, pred)\n",
    "\n",
    "# printing values\n",
    "print('Slope:' ,linearRegressor.coef_)\n",
    "print('Root mean squared error: ', rmse)\n",
    "\n",
    "\n"
   ]
  },
  {
   "cell_type": "code",
   "execution_count": 17,
   "metadata": {
    "colab": {
     "base_uri": "https://localhost:8080/",
     "height": 283
    },
    "colab_type": "code",
    "id": "KKsP_XMCBRax",
    "outputId": "c005e51e-b724-4863-af77-e55f55160707"
   },
   "outputs": [
    {
     "data": {
      "image/png": "[encoded data removed]",
      "text/plain": [
       "<Figure size 432x288 with 1 Axes>"
      ]
     },
     "metadata": {},
     "output_type": "display_data"
    }
   ],
   "source": [
    "# plotting values\n",
    "pred1 = [round(x) for x in pred ]\n",
    "# data points\n",
    "plt.plot(yTest[100:].tolist())\n",
    "plt.plot(pred1[100:])\n",
    "plt.xlabel('x')\n",
    "plt.ylabel('y')\n",
    "\n",
    "\n",
    "plt.show()"
   ]
  },
  {
   "cell_type": "markdown",
   "metadata": {
    "colab_type": "text",
    "id": "oyeKr2-PGSS2"
   },
   "source": [
    "### Improve the result.\n",
    "#### use following - \n",
    " #### 1. Lemmatization or stemming which ever you seems appropriate\n",
    " #### 2. Apply Tf-Idf\n",
    " #### 3. Balance the dataset in terms of ratings\n",
    " #### 4. Convert the ratings into binary and apply 3 different classifiers to classify."
   ]
  },
  {
   "cell_type": "code",
   "execution_count": 202,
   "metadata": {},
   "outputs": [],
   "source": [
    "import numpy as np \n",
    "import pandas as pd \n",
    "import seaborn as sns \n",
    "import matplotlib.pyplot as plt \n",
    "from sklearn import preprocessing, svm \n",
    "from sklearn.model_selection import train_test_split \n",
    "from sklearn.linear_model import LinearRegression \n",
    "import matplotlib.pyplot as plot\n",
    "from sklearn.metrics import mean_squared_error\n",
    "xTrain, xTest, yTrain, yTest = train_test_split(total_text['token'], ratings, test_size = 0.2, random_state = 0)"
   ]
  },
  {
   "cell_type": "code",
   "execution_count": 203,
   "metadata": {
    "colab": {
     "base_uri": "https://localhost:8080/",
     "height": 1000
    },
    "colab_type": "code",
    "id": "RqLBlzNkmz7C",
    "outputId": "4fe67f02-b493-4e49-9520-3bc2486e5eb1",
    "scrolled": true
   },
   "outputs": [
    {
     "data": {
      "text/plain": [
       "1687    5\n",
       "1500    4\n",
       "1332    4\n",
       "1979    5\n",
       "1817    4\n",
       "       ..\n",
       "1835    5\n",
       "1192    5\n",
       "1629    5\n",
       "1559    3\n",
       "1684    5\n",
       "Name: overall, Length: 800, dtype: int64"
      ]
     },
     "execution_count": 203,
     "metadata": {},
     "output_type": "execute_result"
    }
   ],
   "source": [
    "yTrain"
   ]
  },
  {
   "cell_type": "code",
   "execution_count": 204,
   "metadata": {
    "colab": {},
    "colab_type": "code",
    "id": "uceMkDn_ZDfX"
   },
   "outputs": [
    {
     "data": {
      "text/plain": [
       "1687    [used, pads, porter, cable, xp, inch, variable...\n",
       "1500    [would, recomend, diyr, great, around, garage,...\n",
       "1332    [want, product, around, yrs, yrs, buy, this., ...\n",
       "1979    [using, product, years, never, failed, me., on...\n",
       "1817    [little, pricey, come, cruiser, plate, cover.,...\n",
       "                              ...                        \n",
       "1835    [like, icing, cake, finishing, plates., see, l...\n",
       "1192    [originally, interested, one, larger, pullers,...\n",
       "1629    [love, taking, care, vehicles., used, many, ex...\n",
       "1559    [meguiar, scratch, x, ., seems, job, little, s...\n",
       "1684    [pad, works, described., used, along, remove, ...\n",
       "Name: token, Length: 800, dtype: object"
      ]
     },
     "execution_count": 204,
     "metadata": {},
     "output_type": "execute_result"
    }
   ],
   "source": [
    "xTrain"
   ]
  },
  {
   "cell_type": "code",
   "execution_count": 205,
   "metadata": {
    "colab": {},
    "colab_type": "code",
    "id": "N6Jm3TEWZDh5"
   },
   "outputs": [
    {
     "data": {
      "text/plain": [
       "(200,)"
      ]
     },
     "execution_count": 205,
     "metadata": {},
     "output_type": "execute_result"
    }
   ],
   "source": [
    "xTest.shape"
   ]
  },
  {
   "cell_type": "code",
   "execution_count": 21,
   "metadata": {
    "colab": {},
    "colab_type": "code",
    "id": "OPDLYKnGZDkv"
   },
   "outputs": [
    {
     "name": "stdout",
     "output_type": "stream",
     "text": [
      "[nltk_data] Downloading package wordnet to C:\\Users\\Sourav-\n",
      "[nltk_data]     PC\\AppData\\Roaming\\nltk_data...\n",
      "[nltk_data]   Unzipping corpora\\wordnet.zip.\n"
     ]
    },
    {
     "data": {
      "text/plain": [
       "True"
      ]
     },
     "execution_count": 21,
     "metadata": {},
     "output_type": "execute_result"
    }
   ],
   "source": [
    "import nltk\n",
    "nltk.download('wordnet')"
   ]
  },
  {
   "cell_type": "code",
   "execution_count": 206,
   "metadata": {
    "colab": {},
    "colab_type": "code",
    "id": "WHo5u514ZDqv"
   },
   "outputs": [
    {
     "data": {
      "text/plain": [
       "pandas.core.frame.DataFrame"
      ]
     },
     "execution_count": 206,
     "metadata": {},
     "output_type": "execute_result"
    }
   ],
   "source": [
    "type(total_text)"
   ]
  },
  {
   "cell_type": "code",
   "execution_count": 207,
   "metadata": {
    "colab": {},
    "colab_type": "code",
    "id": "l-WPt6dlZDt6"
   },
   "outputs": [],
   "source": [
    "x_train=pd.DataFrame()\n"
   ]
  },
  {
   "cell_type": "code",
   "execution_count": 213,
   "metadata": {
    "colab": {},
    "colab_type": "code",
    "id": "11sGXvEHmz9a"
   },
   "outputs": [
    {
     "data": {
      "text/html": [
       "<div>\n",
       "<style scoped>\n",
       "    .dataframe tbody tr th:only-of-type {\n",
       "        vertical-align: middle;\n",
       "    }\n",
       "\n",
       "    .dataframe tbody tr th {\n",
       "        vertical-align: top;\n",
       "    }\n",
       "\n",
       "    .dataframe thead th {\n",
       "        text-align: right;\n",
       "    }\n",
       "</style>\n",
       "<table border=\"1\" class=\"dataframe\">\n",
       "  <thead>\n",
       "    <tr style=\"text-align: right;\">\n",
       "      <th></th>\n",
       "      <th>value</th>\n",
       "    </tr>\n",
       "  </thead>\n",
       "  <tbody>\n",
       "    <tr>\n",
       "      <th>0</th>\n",
       "      <td>[used, pad, porter, cable, xp, inch, variable,...</td>\n",
       "    </tr>\n",
       "    <tr>\n",
       "      <th>1</th>\n",
       "      <td>[would, recomend, diyr, great, around, garage,...</td>\n",
       "    </tr>\n",
       "    <tr>\n",
       "      <th>2</th>\n",
       "      <td>[want, product, around, yr, yr, buy, this., wo...</td>\n",
       "    </tr>\n",
       "    <tr>\n",
       "      <th>3</th>\n",
       "      <td>[using, product, year, never, failed, me., one...</td>\n",
       "    </tr>\n",
       "    <tr>\n",
       "      <th>4</th>\n",
       "      <td>[little, pricey, come, cruiser, plate, cover.,...</td>\n",
       "    </tr>\n",
       "  </tbody>\n",
       "</table>\n",
       "</div>"
      ],
      "text/plain": [
       "                                               value\n",
       "0  [used, pad, porter, cable, xp, inch, variable,...\n",
       "1  [would, recomend, diyr, great, around, garage,...\n",
       "2  [want, product, around, yr, yr, buy, this., wo...\n",
       "3  [using, product, year, never, failed, me., one...\n",
       "4  [little, pricey, come, cruiser, plate, cover.,..."
      ]
     },
     "execution_count": 213,
     "metadata": {},
     "output_type": "execute_result"
    }
   ],
   "source": [
    "#Lemmatization (1st part) on x_train\n",
    "\n",
    "from nltk.stem import WordNetLemmatizer \n",
    "lmtzr = WordNetLemmatizer()\n",
    "\n",
    "for i in xTrain:\n",
    "    ans=[]\n",
    "    for j in i:\n",
    "        df=lmtzr.lemmatize(j)\n",
    "        ans.append(df)\n",
    "    df={'value':ans}\n",
    "    x_train=x_train.append(df,ignore_index=True)\n",
    "    \n",
    "x_train.head()"
   ]
  },
  {
   "cell_type": "code",
   "execution_count": 211,
   "metadata": {
    "colab": {},
    "colab_type": "code",
    "id": "bAjRbH3wm0GZ"
   },
   "outputs": [
    {
     "data": {
      "text/html": [
       "<div>\n",
       "<style scoped>\n",
       "    .dataframe tbody tr th:only-of-type {\n",
       "        vertical-align: middle;\n",
       "    }\n",
       "\n",
       "    .dataframe tbody tr th {\n",
       "        vertical-align: top;\n",
       "    }\n",
       "\n",
       "    .dataframe thead th {\n",
       "        text-align: right;\n",
       "    }\n",
       "</style>\n",
       "<table border=\"1\" class=\"dataframe\">\n",
       "  <thead>\n",
       "    <tr style=\"text-align: right;\">\n",
       "      <th></th>\n",
       "      <th>value</th>\n",
       "    </tr>\n",
       "  </thead>\n",
       "  <tbody>\n",
       "    <tr>\n",
       "      <th>0</th>\n",
       "      <td>5.0</td>\n",
       "    </tr>\n",
       "    <tr>\n",
       "      <th>1</th>\n",
       "      <td>4.0</td>\n",
       "    </tr>\n",
       "    <tr>\n",
       "      <th>2</th>\n",
       "      <td>5.0</td>\n",
       "    </tr>\n",
       "    <tr>\n",
       "      <th>3</th>\n",
       "      <td>3.0</td>\n",
       "    </tr>\n",
       "    <tr>\n",
       "      <th>4</th>\n",
       "      <td>5.0</td>\n",
       "    </tr>\n",
       "  </tbody>\n",
       "</table>\n",
       "</div>"
      ],
      "text/plain": [
       "   value\n",
       "0    5.0\n",
       "1    4.0\n",
       "2    5.0\n",
       "3    3.0\n",
       "4    5.0"
      ]
     },
     "execution_count": 211,
     "metadata": {},
     "output_type": "execute_result"
    }
   ],
   "source": [
    "yTrain\n",
    "y_train=pd.DataFrame()\n",
    "y_test=pd.DataFrame()\n",
    "for i in yTrain:\n",
    "    xx={'value':i}\n",
    "    y_train=y_train.append(xx,ignore_index=True)\n",
    "for i in yTest:\n",
    "    xx={'value':i}\n",
    "    y_test=y_test.append(xx,ignore_index=True)\n",
    "y_test.head()"
   ]
  },
  {
   "cell_type": "code",
   "execution_count": 70,
   "metadata": {
    "colab": {},
    "colab_type": "code",
    "id": "e3Vb2SOTm0JV"
   },
   "outputs": [
    {
     "data": {
      "text/plain": [
       "0      [used, pad, porter, cable, xp, inch, variable,...\n",
       "1      [would, recomend, diyr, great, around, garage,...\n",
       "2      [want, product, around, yr, yr, buy, this., wo...\n",
       "3      [using, product, year, never, failed, me., one...\n",
       "4      [little, pricey, come, cruiser, plate, cover.,...\n",
       "                             ...                        \n",
       "795    [like, icing, cake, finishing, plates., see, l...\n",
       "796    [originally, interested, one, larger, puller, ...\n",
       "797    [love, taking, care, vehicles., used, many, ex...\n",
       "798    [meguiar, scratch, x, ., seems, job, little, s...\n",
       "799    [pad, work, described., used, along, remove, s...\n",
       "Name: value, Length: 800, dtype: object"
      ]
     },
     "execution_count": 70,
     "metadata": {},
     "output_type": "execute_result"
    }
   ],
   "source": [
    "x_train['value']"
   ]
  },
  {
   "cell_type": "code",
   "execution_count": 61,
   "metadata": {},
   "outputs": [],
   "source": [
    "x_test=pd.DataFrame()"
   ]
  },
  {
   "cell_type": "code",
   "execution_count": 212,
   "metadata": {},
   "outputs": [
    {
     "data": {
      "text/html": [
       "<div>\n",
       "<style scoped>\n",
       "    .dataframe tbody tr th:only-of-type {\n",
       "        vertical-align: middle;\n",
       "    }\n",
       "\n",
       "    .dataframe tbody tr th {\n",
       "        vertical-align: top;\n",
       "    }\n",
       "\n",
       "    .dataframe thead th {\n",
       "        text-align: right;\n",
       "    }\n",
       "</style>\n",
       "<table border=\"1\" class=\"dataframe\">\n",
       "  <thead>\n",
       "    <tr style=\"text-align: right;\">\n",
       "      <th></th>\n",
       "      <th>value</th>\n",
       "    </tr>\n",
       "  </thead>\n",
       "  <tbody>\n",
       "    <tr>\n",
       "      <th>0</th>\n",
       "      <td>[handy, toss, trunk., using, protect, ciggy, l...</td>\n",
       "    </tr>\n",
       "    <tr>\n",
       "      <th>1</th>\n",
       "      <td>[hi, lift, life, name, still, first, sceptical...</td>\n",
       "    </tr>\n",
       "    <tr>\n",
       "      <th>2</th>\n",
       "      <td>[great, product, money., worked, described, bu...</td>\n",
       "    </tr>\n",
       "    <tr>\n",
       "      <th>3</th>\n",
       "      <td>[purchased, product, due, fact, unfortunately,...</td>\n",
       "    </tr>\n",
       "    <tr>\n",
       "      <th>4</th>\n",
       "      <td>[used, meguiar, product, decade, trust, brand....</td>\n",
       "    </tr>\n",
       "  </tbody>\n",
       "</table>\n",
       "</div>"
      ],
      "text/plain": [
       "                                               value\n",
       "0  [handy, toss, trunk., using, protect, ciggy, l...\n",
       "1  [hi, lift, life, name, still, first, sceptical...\n",
       "2  [great, product, money., worked, described, bu...\n",
       "3  [purchased, product, due, fact, unfortunately,...\n",
       "4  [used, meguiar, product, decade, trust, brand...."
      ]
     },
     "execution_count": 212,
     "metadata": {},
     "output_type": "execute_result"
    }
   ],
   "source": [
    "#Lemmatization (1st part) on x_test\n",
    "\n",
    "from nltk.stem import WordNetLemmatizer \n",
    "lmtzr = WordNetLemmatizer()\n",
    "\n",
    "for i in xTest:\n",
    "    ans=[]\n",
    "    for j in i:\n",
    "        df=lmtzr.lemmatize(j)\n",
    "        ans.append(df)\n",
    "    df={'value':ans}\n",
    "    x_test=x_test.append(df,ignore_index=True)\n",
    "\n",
    "x_test.head()"
   ]
  },
  {
   "cell_type": "code",
   "execution_count": 96,
   "metadata": {},
   "outputs": [
    {
     "data": {
      "text/plain": [
       "0      [handy, toss, trunk., using, protect, ciggy, l...\n",
       "1      [hi, lift, life, name, still, first, sceptical...\n",
       "2      [great, product, money., worked, described, bu...\n",
       "3      [purchased, product, due, fact, unfortunately,...\n",
       "4      [used, meguiar, product, decade, trust, brand....\n",
       "                             ...                        \n",
       "195    [ordered, polish, clean, aluminum, wheel, demo...\n",
       "196    [month, pretty, much, cleared, musty, smell, a...\n",
       "197    [nice, rig, becomes, unhappy, stick, use, cold...\n",
       "198    [faithful, user, meguiar, product, long, time....\n",
       "199    [get, lower, adjusting, screw, ratchet, thick,...\n",
       "Name: value, Length: 200, dtype: object"
      ]
     },
     "execution_count": 96,
     "metadata": {},
     "output_type": "execute_result"
    }
   ],
   "source": [
    "x_test['value']"
   ]
  },
  {
   "cell_type": "code",
   "execution_count": 101,
   "metadata": {},
   "outputs": [],
   "source": [
    "import numpy as np \n",
    "import pandas as pd \n",
    "import seaborn as sns \n",
    "import matplotlib.pyplot as plt \n",
    "from sklearn import preprocessing, svm \n",
    "from sklearn.model_selection import train_test_split \n",
    "from sklearn.linear_model import LinearRegression \n",
    "import matplotlib.pyplot as plot\n",
    "from sklearn.metrics import mean_squared_error"
   ]
  },
  {
   "cell_type": "code",
   "execution_count": 215,
   "metadata": {},
   "outputs": [
    {
     "name": "stdout",
     "output_type": "stream",
     "text": [
      "{'handy': 790, 'toss': 1770, 'trunk': 1802, 'using': 1852, 'protect': 1220, 'ciggy': 322, 'lighter': 891, 'socket': 1536, 'could': 417, 'get': 762, 'every': 633, 'car': 267, 'one': 1114, 'use': 1845, 'air': 42, 'pump': 1233, 'powerful': 1193, 'camp': 259, 'light': 890, 'note': 1085, 'plug': 1175, 'limited': 896, 'around': 93, 'amp': 64, 'circuit': 325, 'breaker': 204, 'addition': 22, 'long': 909, 'run': 1385, 'small': 1521, 'higher': 812, 'resistance': 1340, 'wire': 1947, 'jack': 853, 'may': 961, 'cause': 287, 'voltage': 1883, 'drop': 569, 'equipment': 624, 'short': 1475, 'hard': 794, 'wiring': 1948, 'directly': 516, 'next': 1067, 'best': 159, 'thing': 1724, 'this': 1729, 'none': 1078, 'course': 422, 'battery': 140, 'know': 865, 'spark': 1557, 'polarity': 1179, 'finger': 708, 'you': 1993, 'might': 989, 'also': 54, 'want': 1890, 'pick': 1158, 'heavy': 802, 'duty': 586, 'male': 942, 'female': 692, 'extension': 652, 'cord': 407, 'hi': 809, 'lift': 889, 'life': 888, 'name': 1046, 'still': 1610, 'first': 715, 'sceptical': 1407, 'didnt': 503, 'seem': 1435, 'solid': 1540, 'regardless': 1309, 'test': 1703, 'attached': 105, 'jeep': 854, 'problem': 1209, 'great': 780, 'product': 1213, 'money': 1016, 'worked': 1963, 'described': 489, 'built': 230, 'well': 1921, 'highly': 814, 'recommend': 1293, 'anyone': 74, 'work': 1962, 'cars': 278, 'purchased': 1237, 'due': 577, 'fact': 666, 'unfortunately': 1827, 'collision': 356, 'another': 70, 'driver': 566, 'hit': 815, 'passenger': 1145, 'side': 1484, 'backing': 123, 'up': 1834, 'anyway': 76, 'decent': 472, 'scratch': 1412, 'along': 52, 'door': 549, 'white': 1934, 'mark': 949, 'offending': 1106, 'vehicle': 1865, 'after': 34, 'cleaning': 338, 'area': 90, 'lightly': 892, 'applying': 86, 'meguiars': 975, 'applicator': 82, 'pad': 1135, 'cheap': 305, 'ended': 613, 'worth': 1972, 'many': 946, 'eyesore': 662, 'actually': 17, 'gone': 774, 'applied': 83, 'minute': 1001, 'bad': 125, 'minor': 1000, 'working': 1964, 'adding': 21, 'massaged': 956, 'scratches': 1414, 'miracle': 1003, 'cure': 438, 'paint': 1138, 'mean': 965, 'sure': 1658, 'masked': 954, 'deep': 476, 'last': 868, 'wash': 1896, 'even': 630, 'wet': 1923, 'mild': 990, 'rain': 1258, 'shower': 1478, 'would': 1974, 'used': 1847, 'meguiar': 974, 'decade': 471, 'trust': 1803, 'brand': 200, 'leather': 877, 'cleaner': 337, 'conditioner': 382, 'year': 1987, 'bmw': 178, 'pleased': 1172, 'results': 1348, 'weekly': 1919, 'monthly': 1019, 'easy': 594, 'leave': 878, 'excessive': 641, 'residue': 1339, 'house': 827, 'furniture': 753, 'etc': 627, 'come': 362, 'bar': 129, 'based': 135, 'review': 1353, 'cut': 444, 'pretty': 1199, 'sticky': 1609, 'solution': 1541, 'smell': 1525, 'good': 775, 'little': 905, 'bit': 171, 'concerned': 380, 'liquid': 900, 'out': 1128, 'somebody': 1543, 'point': 1178, 'dawn': 460, 'dish': 530, 'oz': 1132, 'per': 1152, 'water': 1904, 'job': 855, 'strong': 1632, 'spreader': 1581, 'really': 1281, 'fit': 716, 'pads': 1136, 'perfect': 1153, 'refinishing': 1302, 'rotor': 1375, 'leaving': 879, 'place': 1162, 'bought': 193, 'gage': 754, 'wife': 1940, 'sealed': 1423, 'dirt': 517, 'nail': 1044, 'real': 1279, 'thats': 1711, 'myself': 1042, 'sw': 1665, 'considered': 390, 'type': 1817, 'bag': 126, 'plastic': 1166, 'box': 196, 'tupperware': 1809, 'super': 1651, 'left': 881, 'cornerof': 409, 'appears': 80, 'flimsy': 729, 'opened': 1118, 'filled': 700, 'quite': 1252, 'substantial': 1642, 'hold': 817, 'tremendousamount': 1791, 'stuff': 1636, 'consider': 389, 'second': 1430, 'simichrome': 1491, 'map': 947, 'torch': 1768, 'heat': 801, 'epoxy': 622, 'caused': 288, 'stain': 1588, 'form': 740, 'surface': 1659, 'oxidation': 1131, 'removed': 1323, 'blue': 177, 'magic': 931, 'le': 872, 'expensive': 649, 'readily': 1276, 'available': 112, 'tried': 1794, 'ducati': 576, 'exhaust': 644, 'turned': 1811, 'purple': 1238, 'cylinder': 448, 'dent': 484, 'help': 805, 'reduce': 1299, 'notice': 1088, 'seems': 1437, 'provide': 1225, 'brighter': 210, 'luster': 926, 'polished': 1182, 'brushed': 217, 'surfaces': 1660, 'overall': 1130, 'star': 1593, 'find': 706, 'mostly': 1021, 'felt': 691, 'provided': 1226, 'shinier': 1464, 'finish': 710, 'application': 81, 'always': 57, 'permatex': 1156, 'creates': 435, 'nice': 1068, 'seal': 1421, 'knock': 864, 'sensor': 1446, 'replaced': 1332, 'newly': 1066, 'tahoe': 1676, 'setup': 1452, 'avoid': 115, 'getting': 763, 'rear': 1283, 'exactly': 638, 'need': 1054, 'to': 1756, 'wore': 1961, 'glove': 770, 'easier': 591, 'cleanup': 339, 'patience': 1148, 'attention': 106, 'span': 1556, 'got': 776, 'rubbing': 1384, 'stupid': 1637, 'going': 772, 'rant': 1265, 'calmed': 255, 'rubbed': 1381, 'moderately': 1012, 'without': 1953, 'damaging': 453, 'inch': 837, 'away': 117, 'way': 1909, 'tell': 1694, 'obviously': 1098, 'haze': 797, 'method': 984, 'half': 787, 'circular': 326, 'motion': 1024, 'rub': 1380, 'direction': 513, 'removing': 1325, 'compound': 376, 'likely': 895, 'screw': 1415, 'more': 1020, 'item': 851, 'arrived': 96, 'assembly': 102, 'looking': 913, 'unit': 1830, 'quality': 1246, 'look': 911, 'start': 1595, 'neighbor': 1061, 'plenty': 1173, 'power': 1190, 'weak': 1911, 'least': 876, 'ready': 1278, 'new': 1064, 'ten': 1697, 'necessary': 1053, 'toolbox': 1764, 'put': 1243, 'pressure': 1198, 'electrode': 604, 'prying': 1229, 'gap': 756, 'wider': 1937, 'make': 938, 'design': 491, 'third': 1728, 'like': 893, 'lose': 916, 'never': 1063, 'style': 1639, 'hole': 819, 'pry': 1228, 'open': 1117, 'resting': 1343, 'lip': 899, 'closed': 345, 'garage': 757, 'accident': 7, 'happened': 791, 'smart': 1524, 'detect': 499, 'closing': 346, 'much': 1036, 'technology': 1693, 'making': 941, 'back': 122, 'instead': 845, 'depending': 486, 'cam': 256, 'any': 73, 'huge': 829, 'taillights': 1680, 'able': 0, 'remove': 1322, 'chrome': 319, 'molding': 1014, 'taillight': 1679, 'knew': 863, 'apply': 85, 'buff': 224, 'regular': 1310, 'cotton': 414, 'towel': 1778, 'microfiber': 986, 'soft': 1537, 'mine': 997, 'scope': 1409, 'today': 1757, 'noticed': 1090, 'sensitive': 1445, 'was': 1895, 'hear': 800, 'it': 850, 'vein': 1867, 'artery': 98, 'pulse': 1232, 'low': 921, 'build': 229, 'disappointing': 520, 'probe': 1208, 'tip': 1753, 'shown': 1480, 'bend': 156, 'careful': 272, 'cannot': 261, 'compare': 368, 'say': 1404, 'keep': 857, 'sturdy': 1638, 'case': 280, 'sort': 1549, 'disassemble': 521, 'prior': 1204, 'storing': 1620, 'since': 1497, 'fairly': 673, 'radius': 1255, 'allowable': 48, 'ear': 588, 'bud': 222, 'tight': 1744, 'while': 1933, 'extremely': 659, 'sound': 1550, 'touching': 1774, 'part': 1142, 'produce': 1212, 'lot': 919, 'mind': 995, 'distracting': 535, 'user': 1851, 'time': 1749, 'discerning': 525, 'noise': 1075, 'bumping': 233, 'moving': 1033, 'for': 739, 'price': 1201, 'free': 745, 'shipping': 1469, 'all': 47, 'chip': 315, 'stick': 1608, 'reasonably': 1285, 'hiding': 810, 'stone': 1612, 'black': 172, 'polish': 1181, 'effective': 598, 'mess': 982, 'rags': 1257, 'hoping': 823, 'fill': 699, 'smallest': 1523, 'dice': 501, 'anything': 75, 'yet': 1991, 'made': 929, 'needed': 1055, 'secure': 1432, 'band': 128, 'cvc': 446, 'boot': 185, 'tool': 1763, 'disc': 523, 'brake': 199, 'caliber': 249, 'big': 164, 'wasted': 1902, 'did': 502, 'push': 1241, 'in': 836, 'clamp': 328, 'lisle': 901, 'yellow': 1989, 'color': 357, 'turn': 1810, 'though': 1732, 'red': 1297, 'darker': 457, 'dark': 456, 'better': 160, 'something': 1545, 'else': 606, 'collinite': 355, 'choice': 316, 'pros': 1219, 'drippy': 563, 'looks': 914, 'grab': 777, 'dry': 573, 'durability': 580, 'approx': 88, 'month': 1018, 'parked': 1141, 'swirling': 1668, 'leaf': 873, 'slickcons': 1510, 'trim': 1795, 'rubber': 1382, 'thin': 1723, 'otherwise': 1126, 'take': 1681, 'streak': 1625, 'hot': 825, 'usedoverall': 1848, 'wax': 1905, 'total': 1771, 'steal': 1602, 'ive': 852, 'spray': 1579, 'detailer': 496, 'noticeably': 1089, 'shine': 1461, 'ever': 632, 'company': 367, 'clear': 340, 'silicone': 1488, 'sealer': 1424, 'mechanic': 970, 'threadlocker': 1737, 'occasionally': 1100, 'received': 1287, 'tube': 1807, 'amazon': 60, 'rest': 1342, 'order': 1122, 'seen': 1438, 'works': 1966, 'must': 1038, 'go': 771, 'magnetic': 933, 'grabber': 778, 'claw': 331, 'found': 741, 'those': 1731, 'here': 808, 'hood': 821, 'mother': 1022, 'turtle': 1813, 'uv': 1854, 'protector': 1224, 'protectant': 1221, 'liked': 894, 'taillamp': 1678, 'covers': 427, 'however': 828, 'production': 1214, 'running': 1386, 'greasy': 779, 'wiping': 1946, 'required': 1336, 'saved': 1400, 'butt': 241, 'combined': 360, 'ft': 749, 'strap': 1624, 'extreme': 658, 'pull': 1231, 'bottom': 191, 'snowmobile': 1532, 'trail': 1783, 'yesterday': 1990, 'effed': 599, 'crap': 431, 'gear': 761, 'inexpensive': 839, 'license': 886, 'plate': 1167, 'holder': 818, 'allows': 49, 'sit': 1500, 'edge': 596, 'old': 1111, 'chose': 318, 'swirl': 1667, 'remover': 1324, 'aggressive': 37, 'shape': 1457, 'bucket': 221, 'hand': 788, 'washed': 1897, 'clay': 332, 'embedded': 607, 'matter': 959, 'surprising': 1662, 'looked': 912, 'clean': 335, 'naked': 1045, 'eye': 660, 'claying': 334, 'porter': 1186, 'cable': 247, 'polisher': 1183, 'orbital': 1121, 'simple': 1494, 'mentally': 976, 'divided': 537, 'section': 1431, 'putting': 1244, 'pattern': 1149, 'polishing': 1185, 'excess': 640, 'immediately': 833, 'see': 1434, 'foam': 735, 'enough': 617, 'excellent': 639, 'similar': 1492, 'condition': 381, 'combination': 359, 'guess': 784, 'whole': 1935, 'satisfied': 1398, 'right': 1358, 'moved': 1031, 'finished': 711, 'trick': 1792, 'ramp': 1261, 'speed': 1567, 'setting': 1451, 'maybe': 962, 'afraid': 33, 'burn': 236, 'coat': 350, 'ultimate': 1819, 'waxed': 1906, 'try': 1805, 'topping': 1767, 'carnauba': 275, 'filter': 703, 'removal': 1321, 'smaller': 1522, 'thinner': 1727, 'cutting': 445, 'search': 1427, 'brought': 215, 'tighten': 1745, 'oil': 1109, 'loosen': 915, 'failed': 670, 'easily': 593, 'vehicles': 1866, 'the': 1712, 'pro': 1206, 'cost': 412, 'filters': 704, 'con': 378, 'think': 1725, 'of': 1104, 'therefore': 1718, 'bright': 209, 'flare': 722, 'nothing': 1087, 'emergency': 609, 'lexol': 885, 'helped': 806, 'underwear': 1826, 'now': 1092, 'read': 1275, 'seat': 1429, 'tanthat': 1684, 'show': 1477, 'crazy': 433, 'fell': 689, 'almost': 50, 'loss': 917, 'someone': 1544, 'anal': 65, 'covering': 426, 'harley': 796, 'sportster': 1577, 'aluminum': 56, 'chromed': 320, 'accessory': 6, 'neglected': 1060, 'recommendation': 1294, 'friend': 747, 'amazingly': 59, 'cheapest': 307, 'ball': 127, 'finally': 705, 'bottle': 190, 'years': 1988, 'dried': 561, 'cover': 423, 'action': 16, 'starting': 1597, 'texas': 1706, 'frame': 744, 'obscure': 1097, 'wanted': 1891, 'truck': 1798, 'bill': 169, 'washing': 1900, 'flaked': 720, 'off': 1105, 'kit': 862, 'barring': 132, 'bound': 195, 'armour': 92, 'week': 1918, 'lasting': 870, 'initial': 842, 'quick': 1249, 'bird': 170, 'droppings': 572, 'alone': 51, 'amazing': 58, 'feeling': 688, 'smooth': 1528, 'pleasant': 1170, 'keeping': 858, 'fender': 693, 'bumper': 232, 'wrangler': 1977, 'kind': 861, 'baby': 121, 'fellow': 690, 'stop': 1614, 'rei': 1313, 'ask': 100, 'kept': 859, 'definitely': 479, 'although': 55, 'far': 680, 'me': 964, 'save': 1399, 'replacement': 1333, 'promise': 1215, 'saving': 1402, 'issue': 849, 'dad': 450, 'taught': 1690, 'nickel': 1069, 'lincoln': 897, 'head': 798, 'tires': 1755, 'day': 461, 'tread': 1788, 'tire': 1754, 'material': 958, 'different': 506, 'specifically': 1564, 'designed': 492, 'task': 1689, 'milton': 993, 'pocket': 1177, 'clip': 342, 'sized': 1505, 'gauge': 759, 'wearing': 1914, 'crawling': 432, 'wheel': 1927, 'down': 552, 'stay': 1600, 'glass': 767, 'non': 1077, 'people': 1151, 'alike': 45, 'stopping': 1617, 'important': 834, 'mechanical': 971, 'feature': 686, 'play': 1169, 'role': 1367, 'particularly': 1144, 'road': 1364, 'slippery': 1517, 'checking': 310, 'planning': 1165, 'expense': 648, 'replacing': 1334, 'check': 308, 'often': 1108, 'large': 866, 'wear': 1913, 'driving': 568, 'safety': 1394, 'flaw': 726, 'rating': 1271, 'everything': 635, 'inflator': 841, 'withstand': 1954, 'caliberated': 251, 'high': 811, 'end': 612, 'digital': 509, 'reading': 1277, 'consistantly': 392, 'psi': 1230, 'lower': 922, 'chevy': 312, 'duramax': 582, 'dually': 575, 'simply': 1496, 'inflate': 840, 'achieve': 14, 'so': 1533, 'word': 1960, 'wise': 1949, 'caliberate': 250, 'rely': 1316, 'completely': 374, 'value': 1857, 'compressor': 377, 'change': 297, 'break': 203, 'fluid': 734, 'love': 920, 'lost': 918, 'sleeve': 1509, 'negative': 1059, 'clips': 343, 'deducted': 475, 'sliding': 1512, 'deal': 466, 'means': 967, 'buy': 243, 'mequiars': 980, 'result': 1347, 'others': 1125, 'top': 1766, 'notch': 1084, 'experience': 650, 'ramps': 1262, 'line': 898, 'wide': 1936, 'confidence': 384, 'move': 1030, 'these': 1719, 'shell': 1460, 'support': 1655, 'inside': 843, 'storage': 1618, 'took': 1762, 'let': 883, 'face': 664, 'probably': 1207, 'raised': 1260, 'suffered': 1646, 'moment': 1015, 'terror': 1702, 'realized': 1280, 'wrong': 1982, 'decided': 474, 'drive': 564, 'doing': 543, 'full': 750, 'mirror': 1005, 'target': 1688, 'mounted': 1028, 'bedroom': 149, 'set': 1450, 'floor': 732, 'wall': 1888, 'adjusted': 27, 'front': 748, 'vastly': 1863, 'transmission': 1785, 'slowly': 1520, 'contact': 396, 'fast': 682, 'suspension': 1663, 'bounce': 194, 'damage': 452, 'underside': 1823, 'tester': 1705, 'ignition': 831, 'system': 1673, 'days': 462, 'worse': 1970, 'whether': 1932, 'not': 1083, 'plus': 1176, 'sparkplug': 1558, 'fun': 751, 'charger': 302, 'replace': 1331, 'lasted': 869, 'twice': 1814, 'shop': 1473, 'hope': 822, 'missing': 1006, 'automatic': 108, 'shut': 1483, 'charged': 301, 'standard': 1591, 'flat': 725, 'backup': 124, 'camera': 258, 'plates': 1168, 'mounting': 1029, 'straight': 1622, 'rather': 1270, 'taking': 1683, 'lock': 908, 'nut': 1095, 'behind': 154, 'bracket': 198, 'drilled': 562, 'piece': 1160, 'threaded': 1736, 'add': 19, 'cap': 263, 'cruiser': 436, 'complicated': 375, 'reliable': 1315, 'extra': 655, 'pumping': 1234, 'bidirectionally': 163, 'prone': 1217, 'failure': 671, 'cheaper': 306, 'longer': 910, 'simpler': 1495, 'dispense': 532, 'bidirectional': 162, 'capability': 264, 'liter': 903, 'versus': 1872, 'entire': 621, 'mercedes': 981, 'meaning': 966, 'either': 602, 'model': 1010, 'emptying': 611, 'midway': 988, 'extractor': 657, 'properly': 1218, 'drain': 556, 'empty': 610, 'theory': 1715, 'draining': 557, 'pan': 1140, 'whereas': 1931, 'typically': 1818, 'seven': 1453, 'spot': 1578, 'dirty': 518, 'repainting': 1327, 'restore': 1344, 'da': 449, 'searched': 1428, 'web': 1917, 'instruction': 846, 'watched': 1903, 'video': 1877, 'comment': 366, 'url': 1839, 'clayed': 333, 'ultra': 1820, 'followed': 737, 'finishing': 712, 'saw': 1403, 'reduction': 1300, 'single': 1499, 'glaze': 768, 'two': 1816, 'nxt': 1096, 'happy': 793, 'significant': 1486, 'earlier': 589, 'only': 1115, 'downside': 553, 'weather': 1915, 'supposed': 1657, 'do': 539, 'whatsoever': 1926, 'california': 252, 'gold': 773, 'ran': 1263, 'feel': 687, 'difference': 505, 'appreciably': 87, 'smoother': 1529, 'included': 838, 'slide': 1511, 'smudge': 1530, 'appear': 78, 'warns': 1894, 'dropped': 570, 'discarded': 524, 'mindful': 996, 'dropping': 571, 'smelled': 1526, 'cinnamon': 323, 'fan': 678, 'unpleasant': 1833, 'useful': 1849, 'priced': 1202, 'stand': 1590, 'prep': 1195, 'waxingthe': 1908, 'cool': 405, 'comfortably': 364, 'lay': 871, 'burning': 237, 'hour': 826, 'rated': 1269, 'ease': 590, 'scale': 1405, 'depth': 488, 'ya': 1985, 'spent': 1569, 'possible': 1188, 'yokohama': 1992, 'woul': 1973, 'dbe': 464, 'basic': 136, 'worry': 1968, 'about': 1, 'tad': 1674, 'touch': 1773, 'cub': 437, 'viair': 1874, 'bypassing': 246, 'cigarette': 321, 'charge': 300, 'trickle': 1793, 'chargers': 303, 'wish': 1950, 'terminal': 1700, 'connectors': 387, 'paste': 1147, 'similary': 1493, 'shallow': 1456, 'narrow': 1049, 'marks': 952, 'specialized': 1563, 'eagle': 587, 'nanowax': 1048, 'discontinued': 527, 'filling': 701, 'visible': 1881, 'certain': 292, 'viewing': 1879, 'angles': 68, 'expect': 645, 'miracles': 1004, 'ryobi': 1391, 'cleaned': 336, 'warm': 1893, 'various': 1861, 'risk': 1363, 'purchase': 1236, 'roll': 1368, 'lucky': 924, 'currently': 441, 'listed': 902, 'seller': 1442, 'source': 1551, 'supplier': 1653, 'mityvac': 1007, 'nested': 1062, 'protective': 1223, 'card': 269, 'board': 179, 'handle': 789, 'undamaged': 1822, 'supplied': 1652, 'checked': 309, 'upper': 1836, 'lid': 887, 'ensure': 618, 'came': 257, 'gasket': 758, 'stated': 1599, 'units': 1831, 'bother': 188, 'tested': 1704, 'evaucation': 629, 'drawing': 559, 'gallon': 755, 'antifreeze': 72, 'quickly': 1251, 'refilling': 1301, 'returning': 1351, 'container': 397, 'throughly': 1740, 'botton': 192, 'reservoir': 1338, 'tubing': 1808, 'rigid': 1359, 'plan': 1164, 'flexible': 728, 'hose': 824, 'local': 906, 'hardware': 795, 'store': 1619, 'give': 764, 'spend': 1568, 'dollar': 544, 'dealership': 468, 'mothers': 1023, 'switch': 1670, 'rag': 1256, 'constantly': 394, 'paid': 1137, 'self': 1441, 'problems': 1210, 'rebuilt': 1286, 'manage': 943, 'breaking': 205, 'metal': 983, 'prevent': 1200, 'rust': 1387, 'bolts': 183, 'stud': 1635, 'anti': 71, 'seize': 1439, 'winter': 1943, 'needing': 1056, 'again': 35, 'bolt': 182, 'struc': 1634, 'tie': 1743, 'rod': 1366, 'axle': 120, 'caliper': 253, 'dont': 547, 'tolerate': 1760, 'degree': 481, 'chance': 296, 'sea': 1419, 'doo': 548, 'normal': 1080, 'confirm': 385, 'several': 1454, 'mainly': 936, 'cart': 279, 'scrape': 1410, 'onto': 1116, 'excited': 642, 'went': 1922, 'modification': 1013, 'changed': 298, 'adjust': 26, 'height': 803, 'pin': 1161, 'quicker': 1250, 'nissan': 1073, 'waited': 1886, 'connector': 386, 'fingernail': 709, 'fair': 672, 'usa': 1841, 'aware': 116, 'caveats': 290, 'suv': 1664, 'reviewer': 1354, 'trucks': 1800, 'convenient': 401, 'cons': 388, 'consuming': 395, 'step': 1606, 'three': 1739, 'position': 1187, 'choose': 317, 'thumb': 1742, 'painted': 1139, 'tightly': 1748, 'difficult': 507, 'shipped': 1468, 'if': 830, 'button': 242, 'width': 1938, 'adjustment': 29, 'stars': 1594, 'rubbermaid': 1383, 'stool': 1613, 'costco': 413, 'anchor': 66, 'window': 1942, 'wiper': 1945, 'access': 5, 'roof': 1369, 'device': 500, 'update': 1835, 'trying': 1806, 'returned': 1350, 'thank': 1707, 'return': 1349, 'policy': 1180, 'shopping': 1474, 'trustworthy': 1804, 'classic': 330, 'yourself': 1994, 'perfectly': 1154, 'dusty': 585, 'wipe': 1944, 'washes': 1899, 'buying': 244, 'began': 151, 'continued': 399, 'micro': 985, 'powerball': 1191, 'reflect': 1303, 'showroom': 1482, 'size': 1504, 'install': 844, 'temperature': 1696, 'slight': 1513, 'tap': 1685, 'glad': 766, 'sl': 1507, 'sitting': 1502, 'weathered': 1916, 'rough': 1376, 'deposits': 487, 'night': 1071, 'repeated': 1330, 'process': 1211, 'times': 1751, 'within': 1952, 'cant': 262, 'smile': 1527, 'everyone': 634, 'done': 546, 'tech': 1692, 'recommending': 1296, 'customer': 443, 'state': 1598, 'require': 1335, 'bars': 133, 'they': 1720, 'restored': 1345, 'draw': 558, 'dise': 529, 'said': 1395, 'interior': 848, 'doea': 540, 'dust': 583, 'regularly': 1311, 'buffer': 225, 'toughest': 1776, 'youtube': 1996, 'leaks': 875, 'temp': 1695, 'fix': 719, 'permanent': 1155, 'us': 1840, 'endless': 614, 'resistant': 1341, 'substance': 1641, 'ultrablack': 1821, 'wonderful': 1956, 'tough': 1775, 'sealant': 1422, 'tend': 1698, 'particular': 1143, 'ounce': 1127, 'package': 1134, 'description': 490, 'base': 134, 'scraping': 1411, 'age': 36, 'assigned': 103, 'rentals': 1326, 'stage': 1587, 'element': 605, 'beautiful': 145, 'showing': 1479, 'family': 677, 'thanksgiving': 1709, 'vacuum': 1855, 'detailing': 497, 'rinse': 1362, 'slow': 1519, 'chamois': 295, 'cloth': 347, 'nook': 1079, 'cranny': 430, 'imagine': 832, 'unless': 1832, 'literally': 904, 'showpiece': 1481, 'fail': 669, 'when': 1929, 'dispell': 531, 'myth': 1043, 'amongst': 62, 'reverse': 1352, 'dull': 578, 'wierd': 1939, 'science': 1408, 'theories': 1714, 'rediculous': 1298, 'that': 1710, 'tiny': 1752, 'airborn': 43, 'speck': 1566, 'asphalt': 101, 'microscopic': 987, 'rock': 1365, 'space': 1553, 'debris': 470, 'become': 147, 'basically': 137, 'million': 992, 'splinter': 1574, 'barred': 130, 'rtv': 1379, 'intended': 847, 'primary': 1203, 'engine': 615, 'maker': 939, 'purpose': 1239, 'near': 1051, 'desirable': 493, 'true': 1801, 'speaker': 1559, 'odd': 1103, 'custom': 442, 'spacers': 1554, 'especially': 625, 'troublesome': 1797, 'disposable': 533, 'squeeze': 1584, 'easiest': 592, 'bead': 142, 'slightly': 1514, 'larger': 867, 'calk': 254, 'gun': 785, 'quantity': 1247, 'helpful': 807, 'spring': 1582, 'durable': 581, 'abuse': 3, 'thrown': 1741, 'removable': 1320, 'absorb': 2, 'scratched': 1413, 'waxing': 1907, 'additional': 23, 'swirlmark': 1669, 'useless': 1850, 'ok': 1110, 'room': 1370, 'catch': 285, 'on': 1113, 'multiple': 1037, 'coats': 351, 'accord': 11, 'rich': 1355, 'sp': 1552, 'dual': 574, 'securely': 1433, 'sling': 1516, 'begin': 152, 'machine': 927, 'rotates': 1373, 'becomes': 148, 'drag': 555, 'rotation': 1374, 'thick': 1721, 'tapered': 1686, 'solved': 1542, 'velcro': 1868, 'facing': 665, 'september': 1448, 'flawlessly': 727, 'moderate': 1011, 'there': 1717, 'already': 53, 'brief': 208, 'what': 1924, 'dead': 465, 'couple': 420, 'crank': 429, 'accomplish': 10, 'whatever': 1925, 'chintzy': 314, 'exact': 637, 'max': 960, 'volts': 1884, 'option': 1120, 'timed': 1750, 'capacity': 266, 'mode': 1009, 'giving': 765, 'four': 742, 'spite': 1572, 'shortcoming': 1476, 'comfortable': 363, 'told': 1759, 'weakness': 1912, 'wheeling': 1928, 'function': 752, 'selected': 1440, 'release': 1314, 'valve': 1858, 'accidentally': 8, 'swivel': 1671, 'fitted': 717, 'ring': 1361, 'places': 1163, 'minutes': 1002, 'beat': 144, 'broken': 214, 'bigger': 165, 'cork': 408, 'stopper': 1616, 'slime': 1515, 'bicycle': 161, 'sealing': 1425, 'puncture': 1235, 'automobile': 109, 'assume': 104, 'occurs': 1102, 'leak': 874, 'care': 270, 'happens': 792, 'driven': 565, 'serious': 1449, 'significantly': 1487, 'deflated': 480, 'tear': 1691, 'greater': 781, 'address': 24, 'spair': 1555, 'consists': 393, 'according': 12, 'adequate': 25, 'treat': 1789, 'averaged': 114, 'nine': 1072, 'dollars': 545, 'subtract': 1644, 'fifteen': 697, 'foot': 738, 'noisy': 1076, 'rate': 1268, 'minimum': 999, 'older': 1112, 'thought': 1733, 'situation': 1503, 'changing': 299, 'valuable': 1856, 'capable': 265, 'follow': 736, 'directions': 515, 'dash': 458, 'shinny': 1465, 'amount': 63, 'suppose': 1656, 'pushing': 1242, 'them': 1713, 'defective': 478, 'covered': 425, 'rusting': 1389, 'usually': 1853, 'recently': 1290, 'cared': 271, 'detail': 494, 'complaint': 373, 'believe': 155, 'airing': 44, 'cat': 282, 'guy': 786, 'complain': 372, 'pound': 1189, 'recheck': 1291, 'snap': 1531, 'certified': 293, 'number': 1093, 'average': 113, 'kid': 860, 'basketball': 138, 'nd': 1050, 'thanks': 1708, 'broke': 213, 'protection': 1222, 'reason': 1284, 'separate': 1447, 'comparison': 370, 'provides': 1227, 'level': 884, 'meguairs': 973, 'bigs': 167, 'double': 550, 'autowash': 111, 'soap': 1534, 'yr': 1997, 'van': 1859, 'yrs': 1998, 'bum': 231, 'my': 1041, 'wondering': 1957, 'sooo': 1548, 'shineyi': 1463, 'occasional': 1099, 'does': 541, 'evenly': 631, 'thread': 1735, 'press': 1197, 'measure': 968, 'rotate': 1372, 'match': 957, 'measurement': 969, 'stacked': 1586, 'treatment': 1790, 'occur': 1101, 'dressed': 560, 'strengthen': 1627, 'bay': 141, 'causing': 289, 'exterior': 653, 'siding': 1485, 'gave': 760, 'impressed': 835, 'takes': 1682, 'stronger': 1633, 'coming': 365, 'hitch': 816, 'threads': 1738, 'seafoam': 1420, 'silikroil': 1489, 'close': 344, 'cobra': 352, 'daily': 451, 'rid': 1356, 'tho': 1730, 'tightened': 1746, 'circle': 324, 'grip': 782, 'canister': 260, 'dig': 508, 'sheet': 1459, 'slipping': 1518, 'wrench': 1979, 'tightening': 1747, 'held': 804, 'mount': 1027, 'accommodate': 9, 'variety': 1860, 'sizes': 1506, 'original': 1124, 'factory': 668, 'diy': 538, 'across': 15, 'dozen': 554, 'started': 1596, 'silver': 1490, 'wait': 1885, 'whenever': 1930, 'charm': 304, 'trouble': 1796, 'suburban': 1645, 'useable': 1846, 'chain': 294, 'thicker': 1722, 'rember': 1318, 'streek': 1626, 'weight': 1920, 'manufacturing': 945, 'written': 1981, 'track': 1780, 'current': 440, 'bug': 227, 'ground': 783, 'terrain': 1701, 'marring': 953, 'both': 187, 'routine': 1377, 'faster': 684, 'expected': 646, 'fiber': 695, 'cloths': 349, 'coverage': 424, 'wd': 1910, 'center': 291, 'sole': 1539, 'dealer': 467, 'deeper': 477, 'mustang': 1039, 'by': 245, 'expecting': 647, 'wow': 1976, 'factor': 667, 'makes': 940, 'wonder': 1955, 'sinceclear': 1498, 'glossy': 769, 'advise': 31, 'polishes': 1184, 'chemical': 311, 'fashioned': 681, 'pyrotechnic': 1245, 'pack': 1133, 'auto': 107, 'distributor': 536, 'via': 1873, 'shipment': 1467, 'mail': 934, 'requirement': 1337, 'flammable': 721, 'enter': 619, 'led': 880, 'flashes': 723, 'nearly': 1052, 'magnet': 932, 'figured': 698, 'refrigerator': 1305, 'as': 99, 'usable': 1843, 'monochromatic': 1017, 'directional': 514, 'lens': 882, 'strip': 1629, 'rd': 1273, 'externally': 654, 'remember': 1319, 'aim': 41, 'eyes': 661, 'with': 1951, 'array': 94, 'reflector': 1304, 'spread': 1580, 'beam': 143, 'because': 146, 'dim': 510, 'usability': 1842, 'brightness': 211, 'story': 1621, 'numerous': 1094, 'bugs': 228, 'added': 20, 'fragrance': 743, 'marketing': 951, 'compared': 369, 'waste': 1901, 'market': 950, 'coupe': 419, 'semi': 1444, 'blind': 174, 'armorall': 91, 'decide': 473, 'considering': 391, 'needle': 1057, 'nose': 1082, 'plier': 1174, 'shoe': 1472, 'strenuous': 1628, 'workout': 1965, 'recent': 1289, 'automotive': 110, 'cycle': 447, 'needs': 1058, 'arb': 89, 'essential': 626, 'carry': 277, 'newer': 1065, 'subaru': 1640, 'dependable': 485, 'prefer': 1194, 'agree': 40, 'reapply': 1282, 'fireing': 713, 'wont': 1958, 'wounder': 1975, 'recomend': 1292, 'yourselfers': 1995, 'bothered': 189, 'travel': 1787, 'trailer': 1784, 'electric': 603, 'controller': 400, 'boss': 186, 'discover': 528, 'safe': 1393, 'affected': 32, 'sun': 1650, 'brings': 212, 'aging': 38, 'stethoscope': 1607, 'ago': 39, 'physician': 1157, 'picked': 1159, 'somewhere': 1547, 'repairs': 1329, 'catalog': 283, 'ordered': 1123, 'versatile': 1871, 'stem': 1605, 'conductor': 383, 'repair': 1328, 'writing': 1980, 'ship': 1466, 'bundled': 235, 'offers': 1107, 'annoying': 69, 'squeak': 1583, 'rattle': 1272, 'zero': 1999, 'locate': 907, 'machinery': 928, 'home': 820, 'walls': 1889, 'sewing': 1455, 'specialist': 1562, 'anywhere': 77, 'recommended': 1295, 'business': 239, 'exclusively': 643, 'purposes': 1240, 'lubricant': 923, 'contamination': 398, 'freshly': 746, 'body': 181, 'prepping': 1196, 'synthetic': 1672, 'benefit': 157, 'film': 702, 'thinking': 1726, 'bent': 158, 'combo': 361, 'accutire': 13, 'soapy': 1535, 'effortless': 601, 'too': 1761, 'corvette': 411, 'caught': 286, 'arrive': 95, 'site': 1501, 'scalifornia': 1406, 'viewers': 1878, 'stopped': 1615, 'stock': 1611, 'substitute': 1643, 'equal': 623, 'enthused': 620, 'strive': 1631, 'seemed': 1436, 'bunch': 234, 'boyfriend': 197, 'outside': 1129, 'relying': 1317, 'catastrophic': 284, 'disaster': 522, 'powered': 1192, 'casual': 281, 'staying': 1601, 'alive': 46, 'sleepy': 1508, 'trucker': 1799, 'barrel': 131, 'demolishing': 482, 'concern': 379, 'fall': 676, 'claim': 327, 'flashlights': 724, 'batteries': 139, 'but': 240, 'no': 1074, 'china': 313, 'and': 67, 'together': 1758, 'vdc': 1864, 'fantastic': 679, 'effect': 597, 'nifty': 1070, 'mt': 1035, 'rim': 1360, 'xj': 1984, 'abused': 4, 'fastener': 683, 'vibration': 1876, 'bushing': 238, 'ther': 1716, 'correct': 410, 'torque': 1769, 'specifications': 1565, 'compatible': 371, 'mequiar': 979, 'among': 61, 'ups': 1837, 'duster': 584, 'past': 1146, 'warehouse': 1892, 'rooms': 1371, 'rv': 1390, 'mcguires': 963, 'fiberglass': 696, 'med': 972, 'blemished': 173, 'totally': 1772, 'scrub': 1417, 'brush': 216, 'spin': 1571, 'worst': 1971, 'floatation': 731, 'soil': 1538, 'sand': 1396, 'couches': 416, 'couch': 415, 'damp': 455, 'enjoy': 616, 'term': 1699, 'breathing': 206, 'clothes': 348, 'scrubbing': 1418, 'movement': 1032, 'awhile': 118, 'ventilate': 1870, 'sponge': 1576, 'appearance': 79, 'understated': 1825, 'detaling': 498, 'beginner': 153, 'sap': 1397, 'tar': 1687, 'refunded': 1307, 'motorcycle': 1026, 'vinyl': 1880, 'fabric': 663, 'regard': 1308, 'sadly': 1392, 'doubt': 551, 'shock': 1470, 'brz': 218, 'dip': 511, 'ventage': 1869, 'com': 358, 'finding': 707, 'coupon': 421, 'world': 1967, 'conveyance': 404, 'sometimes': 1546, 'receiving': 1288, 'biggest': 166, 'saver': 1401, 'twilight': 1815, 'usage': 1844, 'blinking': 175, 'traditional': 1781, 'daytime': 463, 'emergencies': 608, 'craftsman': 428, 'doesnt': 542, 'advertised': 30, 'buell': 223, 'xb': 1983, 'spec': 1560, 'namely': 1047, 'pela': 1150, 'marine': 948, 'experienced': 651, 'spill': 1570, 'everywhere': 636, 'bubble': 219, 'dump': 579, 'splash': 1573, 'turning': 1812, 'upside': 1838, 'ecstatic': 595, 'evacuate': 628, 'dealing': 469, 'extract': 656, 'quart': 1248, 'conventional': 402, 'coolers': 406, 'sump': 1649, 'beefy': 150, 'refund': 1306, 'yakima': 1986, 'racks': 1254, 'bike': 168, 'carrier': 276, 'selling': 1443, 'rack': 1253, 'viar': 1875, 'buck': 220, 'manifold': 944, 'windex': 1941, 'min': 994, 'adapter': 18, 'direct': 512, 'reach': 1274, 'unhitch': 1829, 'tow': 1777, 'disabled': 519, 'blow': 176, 'waiting': 1887, 'summer': 1648, 'worrying': 1969, 'rainy': 1259, 'promising': 1216, 'faux': 685, 'wood': 1959, 'toothbrush': 1765, 'stripping': 1630, 'seals': 1426, 'jumper': 856, 'daughter': 459, 'prius': 1205, 'dies': 504, 'motor': 1025, 'cables': 248, 'swap': 1666, 'toyota': 1779, 'highlander': 813, 'mile': 991, 'maf': 930, 'maintenance': 937, 'crc': 434, 'mass': 955, 'flow': 733, 'opinion': 1119, 'please': 1171, 'disconnect': 526, 'main': 935, 'collar': 354, 'mm': 1008, 'mini': 998, 'screws': 1416, 'arsenal': 97, 'supply': 1654, 'mr': 1034, 'strangle': 1623, 'thousand': 1734, 'effort': 600, 'stack': 1585, 'flitz': 730, 'distant': 534, 'brasso': 202, 'voc': 1882, 'regulation': 1312, 'damn': 454, 'standing': 1592, 'driveway': 567, 'normally': 1081, 'detailed': 495, 'brick': 207, 'restores': 1346, 'range': 1264, 'rover': 1378, 'shocked': 1471, 'lug': 925, 'split': 1575, 'fitting': 718, 'carbon': 268, 'tag': 1675, 'ffsince': 694, 'washer': 1898, 'mentioned': 978, 'trap': 1786, 'rusted': 1388, 'suggest': 1647, 'stainless': 1589, 'steel': 1603, 'nouveau': 1091, 'understand': 1824, 'mention': 977, 'shiney': 1462, 'surfce': 1661, 'special': 1561, 'firm': 714, 'wrapped': 1978, 'applies': 84, 'tailgate': 1677, 'boat': 180, 'cargo': 274, 'noted': 1086, 'steep': 1604, 'book': 184, 'demonstrated': 483, 'headlight': 799, 'buffing': 226, 'clarity': 329, 'brass': 201, 'cleared': 341, 'musty': 1040, 'ax': 119, 'carefull': 273, 'curl': 439, 'sharp': 1458, 'rig': 1357, 'unhappy': 1828, 'cold': 353, 'faith': 674, 'faithful': 675, 'vast': 1862, 'convertible': 403, 'countertops': 418, 'adjusting': 28, 'ratchet': 1266, 'ratcheting': 1267, 'traffic': 1782}\n",
      "(34022, 2000)\n",
      "<class 'scipy.sparse.csr.csr_matrix'>\n"
     ]
    },
    {
     "name": "stdout",
     "output_type": "stream",
     "text": [
      "[[0. 0. 0. ... 0. 0. 0.]\n",
      " [0. 0. 0. ... 0. 0. 0.]\n",
      " [0. 0. 0. ... 0. 0. 0.]\n",
      " ...\n",
      " [0. 0. 0. ... 0. 0. 0.]\n",
      " [0. 0. 0. ... 0. 0. 0.]\n",
      " [0. 0. 0. ... 0. 0. 0.]]\n"
     ]
    }
   ],
   "source": [
    "#Applying TF-IDF\n",
    "\n",
    "from sklearn.feature_extraction.text import CountVectorizer\n",
    "\n",
    "vectorizer = TfidfVectorizer(max_features=2000)\n",
    "\n",
    "vector_train = vectorizer.fit_transform(ss_xtrain)\n",
    "vector_test = vectorizer.fit_transform(ss_xtest)\n",
    "# summarize\n",
    "print(vectorizer.vocabulary_)\n",
    "\n",
    "print(vector_train.shape)\n",
    "print(type(vector_train))\n",
    "print(vector_train.toarray())"
   ]
  },
  {
   "cell_type": "code",
   "execution_count": 192,
   "metadata": {},
   "outputs": [
    {
     "name": "stdout",
     "output_type": "stream",
     "text": [
      "Slope: [-1.01241334 -0.26241334  0.04793131 ...  0.2375866   0.73758651\n",
      " -0.26241334]\n",
      "Root mean squared error:  1.3558203506130542\n"
     ]
    }
   ],
   "source": [
    "#Linear Regression on the dataset clearing stating the RMSE has decreased from the previous value(ie 2.7) after Lemmatization\n",
    "\n",
    "import matplotlib.pyplot as plt\n",
    "from sklearn.metrics import mean_squared_error\n",
    "\n",
    "linearRegressor = LinearRegression()\n",
    "\n",
    "\n",
    "linearRegressor.fit(vector_train, ss_ytrain)\n",
    "pred = linearRegressor.predict(vector_test)\n",
    "\n",
    "# model evaluation\n",
    "rmse = mean_squared_error(ss_ytest, pred)\n",
    "#r2 = r2_score(yTest, pred)\n",
    "\n",
    "# printing values\n",
    "print('Slope:' ,linearRegressor.coef_)\n",
    "print('Root mean squared error: ', rmse)\n",
    "\n"
   ]
  },
  {
   "cell_type": "code",
   "execution_count": 184,
   "metadata": {},
   "outputs": [],
   "source": [
    "ss_xtrain=pd.Series()\n",
    "ss_ytrain=pd.Series()\n",
    "k=0\n",
    "for i in x_train['value']:\n",
    "    \n",
    "    m=pd.Series(i)\n",
    "    ss_xtrain=ss_xtrain.append(m)\n",
    "    for j in range(len(i)):\n",
    "        m1=pd.Series(y_train['value'][k])\n",
    "        ss_ytrain=ss_ytrain.append(m1)\n",
    "    k=k+1"
   ]
  },
  {
   "cell_type": "code",
   "execution_count": 186,
   "metadata": {},
   "outputs": [
    {
     "data": {
      "text/plain": [
       "((34022,), (34022,))"
      ]
     },
     "execution_count": 186,
     "metadata": {},
     "output_type": "execute_result"
    }
   ],
   "source": [
    "ss_xtrain.shape,ss_ytrain.shape"
   ]
  },
  {
   "cell_type": "code",
   "execution_count": 187,
   "metadata": {},
   "outputs": [],
   "source": [
    "ss_xtest=pd.Series()\n",
    "ss_ytest=pd.Series()\n",
    "k=0\n",
    "for i in x_test['value']:\n",
    "    \n",
    "    m=pd.Series(i)\n",
    "    ss_xtest=ss_xtest.append(m)\n",
    "    for j in range(len(i)):\n",
    "        m1=pd.Series(y_test['value'][k])\n",
    "        ss_ytest=ss_ytest.append(m1)\n",
    "    k=k+1\n",
    "    "
   ]
  },
  {
   "cell_type": "code",
   "execution_count": 189,
   "metadata": {},
   "outputs": [
    {
     "data": {
      "text/plain": [
       "((7980,), (7980,))"
      ]
     },
     "execution_count": 189,
     "metadata": {},
     "output_type": "execute_result"
    }
   ],
   "source": [
    "ss_ytest.shape,ss_ytest.shape"
   ]
  },
  {
   "cell_type": "code",
   "execution_count": 199,
   "metadata": {},
   "outputs": [
    {
     "data": {
      "image/png": "[encoded data removed]",
      "text/plain": [
       "<Figure size 432x288 with 1 Axes>"
      ]
     },
     "metadata": {},
     "output_type": "display_data"
    }
   ],
   "source": [
    "# plotting values\n",
    "pred1 = [round(x) for x in pred ]\n",
    "# data points\n",
    "plt.plot(ss_ytest[1000:].tolist())\n",
    "plt.plot(pred1[1000:])\n",
    "plt.xlabel('x')\n",
    "plt.ylabel('y')\n",
    "\n",
    "\n",
    "plt.show()"
   ]
  },
  {
   "cell_type": "markdown",
   "metadata": {},
   "source": [
    "### 1)Linear Regression after Lemmatization done above\n",
    "### 2)KNN Classifier \n",
    "### 3)Decision Tree"
   ]
  },
  {
   "cell_type": "code",
   "execution_count": 195,
   "metadata": {},
   "outputs": [
    {
     "name": "stdout",
     "output_type": "stream",
     "text": [
      "accuracy: 47.330827067669176\n"
     ]
    }
   ],
   "source": [
    "#knn classifier \n",
    "from sklearn.neighbors import KNeighborsClassifier\n",
    "from sklearn.metrics import accuracy_score\n",
    "classifier = KNeighborsClassifier(n_neighbors=5)\n",
    "classifier.fit(vector_train,ss_ytrain)\n",
    "pred = classifier.predict(vector_test)\n",
    "print(\"accuracy: {}\".format(accuracy_score(ss_ytest, pred)*100))\n"
   ]
  },
  {
   "cell_type": "code",
   "execution_count": 196,
   "metadata": {},
   "outputs": [
    {
     "name": "stdout",
     "output_type": "stream",
     "text": [
      "accuracy: 65.21303258145363\n"
     ]
    }
   ],
   "source": [
    "#using Decision Tree having maximum depth \n",
    "from sklearn.tree import DecisionTreeClassifier\n",
    "from sklearn.metrics import accuracy_score\n",
    "from sklearn import tree\n",
    "clf_entropy = DecisionTreeClassifier(criterion = \"entropy\", random_state = 100,max_depth=5, min_samples_leaf=5)\n",
    "clf_entropy.fit(vector_train,ss_ytrain)\n",
    "y_pred_en = clf_entropy.predict(vector_test)\n",
    "print (\"accuracy: {}\".format(accuracy_score(ss_ytest,y_pred_en)*100))"
   ]
  },
  {
   "cell_type": "code",
   "execution_count": null,
   "metadata": {},
   "outputs": [],
   "source": []
  }
 ],
 "metadata": {
  "colab": {
   "collapsed_sections": [],
   "name": "RecoSys.ipynb",
   "provenance": []
  },
  "kernelspec": {
   "display_name": "Python 3",
   "language": "python",
   "name": "python3"
  },
  "language_info": {
   "codemirror_mode": {
    "name": "ipython",
    "version": 3
   },
   "file_extension": ".py",
   "mimetype": "text/x-python",
   "name": "python",
   "nbconvert_exporter": "python",
   "pygments_lexer": "ipython3",
   "version": "3.7.3"
  }
 },
 "nbformat": 4,
 "nbformat_minor": 1
}
